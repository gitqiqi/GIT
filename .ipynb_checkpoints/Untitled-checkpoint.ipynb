{
 "cells": [
  {
   "cell_type": "code",
   "execution_count": 108,
   "id": "34bb391f",
   "metadata": {},
   "outputs": [
    {
     "name": "stderr",
     "output_type": "stream",
     "text": [
      "C:\\ProgramData\\Anaconda3\\lib\\site-packages\\pandas\\io\\sql.py:762: UserWarning:\n",
      "\n",
      "pandas only support SQLAlchemy connectable(engine/connection) ordatabase string URI or sqlite3 DBAPI2 connectionother DBAPI2 objects are not tested, please consider using SQLAlchemy\n",
      "\n"
     ]
    }
   ],
   "source": [
    "import pymysql# 导入库\n",
    "import pandas as pd\n",
    "from sklearn.model_selection import train_test_split\n",
    "\n",
    "conn = pymysql.connect(\n",
    "    user='root',    # 用户名\n",
    "    password='lqq675637',   # 密码：这里一定要注意123456是字符串形式\n",
    "    host='localhost',    # 指定访问的服务器，本地服务器指定“localhost”，远程服务器指定服务器的ip地址\n",
    "    db='my_data',   # 数据库的名字\n",
    "    port=3306,            # 指定端口号，范围在0-65535\n",
    "    charset='utf8mb4',    # 数据库的编码方式\n",
    ")\n",
    "sql = \" SELECT first1_x,'first1_x' as name,count(1) as num from my_data.lottery_data group by 1 \\\n",
    "UNION ALL SELECT first2_x, 'first2_x' as name,count(1) as num2 from my_data.lottery_data group by 1 \\\n",
    "UNION ALL SELECT first3_x, 'first3_x' as name,count(1) as num from my_data.lottery_data group by 1 \\\n",
    "UNION ALL SELECT first4_x, 'first4_x' as name,count(1) as num2 from my_data.lottery_data group by 1 \\\n",
    "UNION ALL SELECT first5_x, 'first5_x' as name,count(1) as num from my_data.lottery_data group by 1\" # SQL语句\n",
    "df=pd.read_sql(sql,conn)"
   ]
  },
  {
   "cell_type": "code",
   "execution_count": 109,
   "id": "9e53f202",
   "metadata": {},
   "outputs": [
    {
     "data": {
      "application/vnd.plotly.v1+json": {
       "config": {
        "plotlyServerURL": "https://plot.ly"
       },
       "data": [
        {
         "alignmentgroup": "True",
         "hovertemplate": "name=first1_x<br>num=%{x}<br>first1_x=%{y}<extra></extra>",
         "legendgroup": "first1_x",
         "marker": {
          "color": "#636efa",
          "pattern": {
           "shape": ""
          }
         },
         "name": "first1_x",
         "offsetgroup": "first1_x",
         "orientation": "h",
         "showlegend": true,
         "textposition": "auto",
         "type": "bar",
         "x": [
          345,
          285,
          265,
          201,
          202,
          153,
          162,
          109,
          95,
          92,
          78,
          54,
          47,
          49,
          35,
          33,
          22,
          20,
          18,
          15,
          15,
          7,
          7,
          5,
          1,
          2,
          1,
          1,
          1
         ],
         "xaxis": "x",
         "y": [
          "01",
          "02",
          "03",
          "04",
          "05",
          "06",
          "07",
          "08",
          "09",
          "10",
          "11",
          "12",
          "13",
          "14",
          "15",
          "16",
          "17",
          "18",
          "19",
          "20",
          "21",
          "22",
          "23",
          "24",
          "25",
          "26",
          "27",
          "29",
          "30"
         ],
         "yaxis": "y"
        }
       ],
       "frames": [
        {
         "data": [
          {
           "alignmentgroup": "True",
           "hovertemplate": "name=first1_x<br>num=%{x}<br>first1_x=%{y}<extra></extra>",
           "legendgroup": "first1_x",
           "marker": {
            "color": "#636efa",
            "pattern": {
             "shape": ""
            }
           },
           "name": "first1_x",
           "offsetgroup": "first1_x",
           "orientation": "h",
           "showlegend": true,
           "textposition": "auto",
           "type": "bar",
           "x": [
            345,
            285,
            265,
            201,
            202,
            153,
            162,
            109,
            95,
            92,
            78,
            54,
            47,
            49,
            35,
            33,
            22,
            20,
            18,
            15,
            15,
            7,
            7,
            5,
            1,
            2,
            1,
            1,
            1
           ],
           "xaxis": "x",
           "y": [
            "01",
            "02",
            "03",
            "04",
            "05",
            "06",
            "07",
            "08",
            "09",
            "10",
            "11",
            "12",
            "13",
            "14",
            "15",
            "16",
            "17",
            "18",
            "19",
            "20",
            "21",
            "22",
            "23",
            "24",
            "25",
            "26",
            "27",
            "29",
            "30"
           ],
           "yaxis": "y"
          }
         ],
         "name": "first1_x"
        },
        {
         "data": [
          {
           "alignmentgroup": "True",
           "hovertemplate": "name=first2_x<br>num=%{x}<br>first1_x=%{y}<extra></extra>",
           "legendgroup": "first2_x",
           "marker": {
            "color": "#EF553B",
            "pattern": {
             "shape": ""
            }
           },
           "name": "first2_x",
           "offsetgroup": "first2_x",
           "orientation": "h",
           "showlegend": true,
           "textposition": "auto",
           "type": "bar",
           "x": [
            52,
            62,
            93,
            121,
            130,
            134,
            130,
            150,
            135,
            151,
            130,
            116,
            109,
            105,
            94,
            87,
            84,
            77,
            64,
            67,
            63,
            42,
            35,
            27,
            22,
            12,
            8,
            9,
            2,
            5,
            4
           ],
           "xaxis": "x",
           "y": [
            "02",
            "03",
            "04",
            "05",
            "06",
            "07",
            "08",
            "09",
            "10",
            "11",
            "12",
            "13",
            "14",
            "15",
            "16",
            "17",
            "18",
            "19",
            "20",
            "21",
            "22",
            "23",
            "24",
            "25",
            "26",
            "27",
            "28",
            "29",
            "30",
            "31",
            "32"
           ],
           "yaxis": "y"
          }
         ],
         "name": "first2_x"
        },
        {
         "data": [
          {
           "alignmentgroup": "True",
           "hovertemplate": "name=first3_x<br>num=%{x}<br>first1_x=%{y}<extra></extra>",
           "legendgroup": "first3_x",
           "marker": {
            "color": "#00cc96",
            "pattern": {
             "shape": ""
            }
           },
           "name": "first3_x",
           "offsetgroup": "first3_x",
           "orientation": "h",
           "showlegend": true,
           "textposition": "auto",
           "type": "bar",
           "x": [
            4,
            4,
            15,
            29,
            43,
            49,
            50,
            78,
            81,
            81,
            116,
            116,
            95,
            93,
            123,
            121,
            140,
            129,
            99,
            135,
            118,
            103,
            91,
            82,
            77,
            72,
            64,
            50,
            33,
            16,
            13
           ],
           "xaxis": "x",
           "y": [
            "03",
            "04",
            "05",
            "06",
            "07",
            "08",
            "09",
            "10",
            "11",
            "12",
            "13",
            "14",
            "15",
            "16",
            "17",
            "18",
            "19",
            "20",
            "21",
            "22",
            "23",
            "24",
            "25",
            "26",
            "27",
            "28",
            "29",
            "30",
            "31",
            "32",
            "33"
           ],
           "yaxis": "y"
          }
         ],
         "name": "first3_x"
        },
        {
         "data": [
          {
           "alignmentgroup": "True",
           "hovertemplate": "name=first4_x<br>num=%{x}<br>first1_x=%{y}<extra></extra>",
           "legendgroup": "first4_x",
           "marker": {
            "color": "#ab63fa",
            "pattern": {
             "shape": ""
            }
           },
           "name": "first4_x",
           "offsetgroup": "first4_x",
           "orientation": "h",
           "showlegend": true,
           "textposition": "auto",
           "type": "bar",
           "x": [
            1,
            1,
            5,
            8,
            13,
            11,
            26,
            33,
            27,
            39,
            59,
            38,
            62,
            69,
            84,
            90,
            92,
            117,
            121,
            112,
            135,
            140,
            141,
            126,
            183,
            161,
            135,
            137,
            91,
            63
           ],
           "xaxis": "x",
           "y": [
            "04",
            "06",
            "07",
            "08",
            "09",
            "10",
            "11",
            "12",
            "13",
            "14",
            "15",
            "16",
            "17",
            "18",
            "19",
            "20",
            "21",
            "22",
            "23",
            "24",
            "25",
            "26",
            "27",
            "28",
            "29",
            "30",
            "31",
            "32",
            "33",
            "34"
           ],
           "yaxis": "y"
          }
         ],
         "name": "first4_x"
        },
        {
         "data": [
          {
           "alignmentgroup": "True",
           "hovertemplate": "name=first5_x<br>num=%{x}<br>first1_x=%{y}<extra></extra>",
           "legendgroup": "first5_x",
           "marker": {
            "color": "#FFA15A",
            "pattern": {
             "shape": ""
            }
           },
           "name": "first5_x",
           "offsetgroup": "first5_x",
           "orientation": "h",
           "showlegend": true,
           "textposition": "auto",
           "type": "bar",
           "x": [
            1,
            1,
            1,
            2,
            4,
            1,
            7,
            9,
            13,
            19,
            22,
            23,
            27,
            42,
            39,
            50,
            78,
            69,
            98,
            110,
            138,
            175,
            175,
            222,
            302,
            292,
            400
           ],
           "xaxis": "x",
           "y": [
            "08",
            "10",
            "11",
            "12",
            "13",
            "14",
            "15",
            "16",
            "17",
            "18",
            "19",
            "20",
            "21",
            "22",
            "23",
            "24",
            "25",
            "26",
            "27",
            "28",
            "29",
            "30",
            "31",
            "32",
            "33",
            "34",
            "35"
           ],
           "yaxis": "y"
          }
         ],
         "name": "first5_x"
        }
       ],
       "layout": {
        "barmode": "relative",
        "legend": {
         "title": {
          "text": "name"
         },
         "tracegroupgap": 0
        },
        "margin": {
         "t": 60
        },
        "sliders": [
         {
          "active": 0,
          "currentvalue": {
           "prefix": "name="
          },
          "len": 0.9,
          "pad": {
           "b": 10,
           "t": 60
          },
          "steps": [
           {
            "args": [
             [
              "first1_x"
             ],
             {
              "frame": {
               "duration": 0,
               "redraw": true
              },
              "fromcurrent": true,
              "mode": "immediate",
              "transition": {
               "duration": 0,
               "easing": "linear"
              }
             }
            ],
            "label": "first1_x",
            "method": "animate"
           },
           {
            "args": [
             [
              "first2_x"
             ],
             {
              "frame": {
               "duration": 0,
               "redraw": true
              },
              "fromcurrent": true,
              "mode": "immediate",
              "transition": {
               "duration": 0,
               "easing": "linear"
              }
             }
            ],
            "label": "first2_x",
            "method": "animate"
           },
           {
            "args": [
             [
              "first3_x"
             ],
             {
              "frame": {
               "duration": 0,
               "redraw": true
              },
              "fromcurrent": true,
              "mode": "immediate",
              "transition": {
               "duration": 0,
               "easing": "linear"
              }
             }
            ],
            "label": "first3_x",
            "method": "animate"
           },
           {
            "args": [
             [
              "first4_x"
             ],
             {
              "frame": {
               "duration": 0,
               "redraw": true
              },
              "fromcurrent": true,
              "mode": "immediate",
              "transition": {
               "duration": 0,
               "easing": "linear"
              }
             }
            ],
            "label": "first4_x",
            "method": "animate"
           },
           {
            "args": [
             [
              "first5_x"
             ],
             {
              "frame": {
               "duration": 0,
               "redraw": true
              },
              "fromcurrent": true,
              "mode": "immediate",
              "transition": {
               "duration": 0,
               "easing": "linear"
              }
             }
            ],
            "label": "first5_x",
            "method": "animate"
           }
          ],
          "x": 0.1,
          "xanchor": "left",
          "y": 0,
          "yanchor": "top"
         }
        ],
        "template": {
         "data": {
          "bar": [
           {
            "error_x": {
             "color": "#2a3f5f"
            },
            "error_y": {
             "color": "#2a3f5f"
            },
            "marker": {
             "line": {
              "color": "#E5ECF6",
              "width": 0.5
             },
             "pattern": {
              "fillmode": "overlay",
              "size": 10,
              "solidity": 0.2
             }
            },
            "type": "bar"
           }
          ],
          "barpolar": [
           {
            "marker": {
             "line": {
              "color": "#E5ECF6",
              "width": 0.5
             },
             "pattern": {
              "fillmode": "overlay",
              "size": 10,
              "solidity": 0.2
             }
            },
            "type": "barpolar"
           }
          ],
          "carpet": [
           {
            "aaxis": {
             "endlinecolor": "#2a3f5f",
             "gridcolor": "white",
             "linecolor": "white",
             "minorgridcolor": "white",
             "startlinecolor": "#2a3f5f"
            },
            "baxis": {
             "endlinecolor": "#2a3f5f",
             "gridcolor": "white",
             "linecolor": "white",
             "minorgridcolor": "white",
             "startlinecolor": "#2a3f5f"
            },
            "type": "carpet"
           }
          ],
          "choropleth": [
           {
            "colorbar": {
             "outlinewidth": 0,
             "ticks": ""
            },
            "type": "choropleth"
           }
          ],
          "contour": [
           {
            "colorbar": {
             "outlinewidth": 0,
             "ticks": ""
            },
            "colorscale": [
             [
              0,
              "#0d0887"
             ],
             [
              0.1111111111111111,
              "#46039f"
             ],
             [
              0.2222222222222222,
              "#7201a8"
             ],
             [
              0.3333333333333333,
              "#9c179e"
             ],
             [
              0.4444444444444444,
              "#bd3786"
             ],
             [
              0.5555555555555556,
              "#d8576b"
             ],
             [
              0.6666666666666666,
              "#ed7953"
             ],
             [
              0.7777777777777778,
              "#fb9f3a"
             ],
             [
              0.8888888888888888,
              "#fdca26"
             ],
             [
              1,
              "#f0f921"
             ]
            ],
            "type": "contour"
           }
          ],
          "contourcarpet": [
           {
            "colorbar": {
             "outlinewidth": 0,
             "ticks": ""
            },
            "type": "contourcarpet"
           }
          ],
          "heatmap": [
           {
            "colorbar": {
             "outlinewidth": 0,
             "ticks": ""
            },
            "colorscale": [
             [
              0,
              "#0d0887"
             ],
             [
              0.1111111111111111,
              "#46039f"
             ],
             [
              0.2222222222222222,
              "#7201a8"
             ],
             [
              0.3333333333333333,
              "#9c179e"
             ],
             [
              0.4444444444444444,
              "#bd3786"
             ],
             [
              0.5555555555555556,
              "#d8576b"
             ],
             [
              0.6666666666666666,
              "#ed7953"
             ],
             [
              0.7777777777777778,
              "#fb9f3a"
             ],
             [
              0.8888888888888888,
              "#fdca26"
             ],
             [
              1,
              "#f0f921"
             ]
            ],
            "type": "heatmap"
           }
          ],
          "heatmapgl": [
           {
            "colorbar": {
             "outlinewidth": 0,
             "ticks": ""
            },
            "colorscale": [
             [
              0,
              "#0d0887"
             ],
             [
              0.1111111111111111,
              "#46039f"
             ],
             [
              0.2222222222222222,
              "#7201a8"
             ],
             [
              0.3333333333333333,
              "#9c179e"
             ],
             [
              0.4444444444444444,
              "#bd3786"
             ],
             [
              0.5555555555555556,
              "#d8576b"
             ],
             [
              0.6666666666666666,
              "#ed7953"
             ],
             [
              0.7777777777777778,
              "#fb9f3a"
             ],
             [
              0.8888888888888888,
              "#fdca26"
             ],
             [
              1,
              "#f0f921"
             ]
            ],
            "type": "heatmapgl"
           }
          ],
          "histogram": [
           {
            "marker": {
             "pattern": {
              "fillmode": "overlay",
              "size": 10,
              "solidity": 0.2
             }
            },
            "type": "histogram"
           }
          ],
          "histogram2d": [
           {
            "colorbar": {
             "outlinewidth": 0,
             "ticks": ""
            },
            "colorscale": [
             [
              0,
              "#0d0887"
             ],
             [
              0.1111111111111111,
              "#46039f"
             ],
             [
              0.2222222222222222,
              "#7201a8"
             ],
             [
              0.3333333333333333,
              "#9c179e"
             ],
             [
              0.4444444444444444,
              "#bd3786"
             ],
             [
              0.5555555555555556,
              "#d8576b"
             ],
             [
              0.6666666666666666,
              "#ed7953"
             ],
             [
              0.7777777777777778,
              "#fb9f3a"
             ],
             [
              0.8888888888888888,
              "#fdca26"
             ],
             [
              1,
              "#f0f921"
             ]
            ],
            "type": "histogram2d"
           }
          ],
          "histogram2dcontour": [
           {
            "colorbar": {
             "outlinewidth": 0,
             "ticks": ""
            },
            "colorscale": [
             [
              0,
              "#0d0887"
             ],
             [
              0.1111111111111111,
              "#46039f"
             ],
             [
              0.2222222222222222,
              "#7201a8"
             ],
             [
              0.3333333333333333,
              "#9c179e"
             ],
             [
              0.4444444444444444,
              "#bd3786"
             ],
             [
              0.5555555555555556,
              "#d8576b"
             ],
             [
              0.6666666666666666,
              "#ed7953"
             ],
             [
              0.7777777777777778,
              "#fb9f3a"
             ],
             [
              0.8888888888888888,
              "#fdca26"
             ],
             [
              1,
              "#f0f921"
             ]
            ],
            "type": "histogram2dcontour"
           }
          ],
          "mesh3d": [
           {
            "colorbar": {
             "outlinewidth": 0,
             "ticks": ""
            },
            "type": "mesh3d"
           }
          ],
          "parcoords": [
           {
            "line": {
             "colorbar": {
              "outlinewidth": 0,
              "ticks": ""
             }
            },
            "type": "parcoords"
           }
          ],
          "pie": [
           {
            "automargin": true,
            "type": "pie"
           }
          ],
          "scatter": [
           {
            "fillpattern": {
             "fillmode": "overlay",
             "size": 10,
             "solidity": 0.2
            },
            "type": "scatter"
           }
          ],
          "scatter3d": [
           {
            "line": {
             "colorbar": {
              "outlinewidth": 0,
              "ticks": ""
             }
            },
            "marker": {
             "colorbar": {
              "outlinewidth": 0,
              "ticks": ""
             }
            },
            "type": "scatter3d"
           }
          ],
          "scattercarpet": [
           {
            "marker": {
             "colorbar": {
              "outlinewidth": 0,
              "ticks": ""
             }
            },
            "type": "scattercarpet"
           }
          ],
          "scattergeo": [
           {
            "marker": {
             "colorbar": {
              "outlinewidth": 0,
              "ticks": ""
             }
            },
            "type": "scattergeo"
           }
          ],
          "scattergl": [
           {
            "marker": {
             "colorbar": {
              "outlinewidth": 0,
              "ticks": ""
             }
            },
            "type": "scattergl"
           }
          ],
          "scattermapbox": [
           {
            "marker": {
             "colorbar": {
              "outlinewidth": 0,
              "ticks": ""
             }
            },
            "type": "scattermapbox"
           }
          ],
          "scatterpolar": [
           {
            "marker": {
             "colorbar": {
              "outlinewidth": 0,
              "ticks": ""
             }
            },
            "type": "scatterpolar"
           }
          ],
          "scatterpolargl": [
           {
            "marker": {
             "colorbar": {
              "outlinewidth": 0,
              "ticks": ""
             }
            },
            "type": "scatterpolargl"
           }
          ],
          "scatterternary": [
           {
            "marker": {
             "colorbar": {
              "outlinewidth": 0,
              "ticks": ""
             }
            },
            "type": "scatterternary"
           }
          ],
          "surface": [
           {
            "colorbar": {
             "outlinewidth": 0,
             "ticks": ""
            },
            "colorscale": [
             [
              0,
              "#0d0887"
             ],
             [
              0.1111111111111111,
              "#46039f"
             ],
             [
              0.2222222222222222,
              "#7201a8"
             ],
             [
              0.3333333333333333,
              "#9c179e"
             ],
             [
              0.4444444444444444,
              "#bd3786"
             ],
             [
              0.5555555555555556,
              "#d8576b"
             ],
             [
              0.6666666666666666,
              "#ed7953"
             ],
             [
              0.7777777777777778,
              "#fb9f3a"
             ],
             [
              0.8888888888888888,
              "#fdca26"
             ],
             [
              1,
              "#f0f921"
             ]
            ],
            "type": "surface"
           }
          ],
          "table": [
           {
            "cells": {
             "fill": {
              "color": "#EBF0F8"
             },
             "line": {
              "color": "white"
             }
            },
            "header": {
             "fill": {
              "color": "#C8D4E3"
             },
             "line": {
              "color": "white"
             }
            },
            "type": "table"
           }
          ]
         },
         "layout": {
          "annotationdefaults": {
           "arrowcolor": "#2a3f5f",
           "arrowhead": 0,
           "arrowwidth": 1
          },
          "autotypenumbers": "strict",
          "coloraxis": {
           "colorbar": {
            "outlinewidth": 0,
            "ticks": ""
           }
          },
          "colorscale": {
           "diverging": [
            [
             0,
             "#8e0152"
            ],
            [
             0.1,
             "#c51b7d"
            ],
            [
             0.2,
             "#de77ae"
            ],
            [
             0.3,
             "#f1b6da"
            ],
            [
             0.4,
             "#fde0ef"
            ],
            [
             0.5,
             "#f7f7f7"
            ],
            [
             0.6,
             "#e6f5d0"
            ],
            [
             0.7,
             "#b8e186"
            ],
            [
             0.8,
             "#7fbc41"
            ],
            [
             0.9,
             "#4d9221"
            ],
            [
             1,
             "#276419"
            ]
           ],
           "sequential": [
            [
             0,
             "#0d0887"
            ],
            [
             0.1111111111111111,
             "#46039f"
            ],
            [
             0.2222222222222222,
             "#7201a8"
            ],
            [
             0.3333333333333333,
             "#9c179e"
            ],
            [
             0.4444444444444444,
             "#bd3786"
            ],
            [
             0.5555555555555556,
             "#d8576b"
            ],
            [
             0.6666666666666666,
             "#ed7953"
            ],
            [
             0.7777777777777778,
             "#fb9f3a"
            ],
            [
             0.8888888888888888,
             "#fdca26"
            ],
            [
             1,
             "#f0f921"
            ]
           ],
           "sequentialminus": [
            [
             0,
             "#0d0887"
            ],
            [
             0.1111111111111111,
             "#46039f"
            ],
            [
             0.2222222222222222,
             "#7201a8"
            ],
            [
             0.3333333333333333,
             "#9c179e"
            ],
            [
             0.4444444444444444,
             "#bd3786"
            ],
            [
             0.5555555555555556,
             "#d8576b"
            ],
            [
             0.6666666666666666,
             "#ed7953"
            ],
            [
             0.7777777777777778,
             "#fb9f3a"
            ],
            [
             0.8888888888888888,
             "#fdca26"
            ],
            [
             1,
             "#f0f921"
            ]
           ]
          },
          "colorway": [
           "#636efa",
           "#EF553B",
           "#00cc96",
           "#ab63fa",
           "#FFA15A",
           "#19d3f3",
           "#FF6692",
           "#B6E880",
           "#FF97FF",
           "#FECB52"
          ],
          "font": {
           "color": "#2a3f5f"
          },
          "geo": {
           "bgcolor": "white",
           "lakecolor": "white",
           "landcolor": "#E5ECF6",
           "showlakes": true,
           "showland": true,
           "subunitcolor": "white"
          },
          "hoverlabel": {
           "align": "left"
          },
          "hovermode": "closest",
          "mapbox": {
           "style": "light"
          },
          "paper_bgcolor": "white",
          "plot_bgcolor": "#E5ECF6",
          "polar": {
           "angularaxis": {
            "gridcolor": "white",
            "linecolor": "white",
            "ticks": ""
           },
           "bgcolor": "#E5ECF6",
           "radialaxis": {
            "gridcolor": "white",
            "linecolor": "white",
            "ticks": ""
           }
          },
          "scene": {
           "xaxis": {
            "backgroundcolor": "#E5ECF6",
            "gridcolor": "white",
            "gridwidth": 2,
            "linecolor": "white",
            "showbackground": true,
            "ticks": "",
            "zerolinecolor": "white"
           },
           "yaxis": {
            "backgroundcolor": "#E5ECF6",
            "gridcolor": "white",
            "gridwidth": 2,
            "linecolor": "white",
            "showbackground": true,
            "ticks": "",
            "zerolinecolor": "white"
           },
           "zaxis": {
            "backgroundcolor": "#E5ECF6",
            "gridcolor": "white",
            "gridwidth": 2,
            "linecolor": "white",
            "showbackground": true,
            "ticks": "",
            "zerolinecolor": "white"
           }
          },
          "shapedefaults": {
           "line": {
            "color": "#2a3f5f"
           }
          },
          "ternary": {
           "aaxis": {
            "gridcolor": "white",
            "linecolor": "white",
            "ticks": ""
           },
           "baxis": {
            "gridcolor": "white",
            "linecolor": "white",
            "ticks": ""
           },
           "bgcolor": "#E5ECF6",
           "caxis": {
            "gridcolor": "white",
            "linecolor": "white",
            "ticks": ""
           }
          },
          "title": {
           "x": 0.05
          },
          "xaxis": {
           "automargin": true,
           "gridcolor": "white",
           "linecolor": "white",
           "ticks": "",
           "title": {
            "standoff": 15
           },
           "zerolinecolor": "white",
           "zerolinewidth": 2
          },
          "yaxis": {
           "automargin": true,
           "gridcolor": "white",
           "linecolor": "white",
           "ticks": "",
           "title": {
            "standoff": 15
           },
           "zerolinecolor": "white",
           "zerolinewidth": 2
          }
         }
        },
        "updatemenus": [
         {
          "buttons": [
           {
            "args": [
             null,
             {
              "frame": {
               "duration": 500,
               "redraw": true
              },
              "fromcurrent": true,
              "mode": "immediate",
              "transition": {
               "duration": 500,
               "easing": "linear"
              }
             }
            ],
            "label": "&#9654;",
            "method": "animate"
           },
           {
            "args": [
             [
              null
             ],
             {
              "frame": {
               "duration": 0,
               "redraw": true
              },
              "fromcurrent": true,
              "mode": "immediate",
              "transition": {
               "duration": 0,
               "easing": "linear"
              }
             }
            ],
            "label": "&#9724;",
            "method": "animate"
           }
          ],
          "direction": "left",
          "pad": {
           "r": 10,
           "t": 70
          },
          "showactive": false,
          "type": "buttons",
          "x": 0.1,
          "xanchor": "right",
          "y": 0,
          "yanchor": "top"
         }
        ],
        "xaxis": {
         "anchor": "y",
         "domain": [
          0,
          1
         ],
         "title": {
          "text": "num"
         }
        },
        "yaxis": {
         "anchor": "x",
         "domain": [
          0,
          1
         ],
         "title": {
          "text": "first1_x"
         }
        }
       }
      },
      "text/html": [
       "<div>                            <div id=\"e14713fc-47c0-4945-a596-1c04339d75e4\" class=\"plotly-graph-div\" style=\"height:525px; width:100%;\"></div>            <script type=\"text/javascript\">                require([\"plotly\"], function(Plotly) {                    window.PLOTLYENV=window.PLOTLYENV || {};                                    if (document.getElementById(\"e14713fc-47c0-4945-a596-1c04339d75e4\")) {                    Plotly.newPlot(                        \"e14713fc-47c0-4945-a596-1c04339d75e4\",                        [{\"alignmentgroup\":\"True\",\"hovertemplate\":\"name=first1_x<br>num=%{x}<br>first1_x=%{y}<extra></extra>\",\"legendgroup\":\"first1_x\",\"marker\":{\"color\":\"#636efa\",\"pattern\":{\"shape\":\"\"}},\"name\":\"first1_x\",\"offsetgroup\":\"first1_x\",\"orientation\":\"h\",\"showlegend\":true,\"textposition\":\"auto\",\"x\":[345,285,265,201,202,153,162,109,95,92,78,54,47,49,35,33,22,20,18,15,15,7,7,5,1,2,1,1,1],\"xaxis\":\"x\",\"y\":[\"01\",\"02\",\"03\",\"04\",\"05\",\"06\",\"07\",\"08\",\"09\",\"10\",\"11\",\"12\",\"13\",\"14\",\"15\",\"16\",\"17\",\"18\",\"19\",\"20\",\"21\",\"22\",\"23\",\"24\",\"25\",\"26\",\"27\",\"29\",\"30\"],\"yaxis\":\"y\",\"type\":\"bar\"}],                        {\"template\":{\"data\":{\"histogram2dcontour\":[{\"type\":\"histogram2dcontour\",\"colorbar\":{\"outlinewidth\":0,\"ticks\":\"\"},\"colorscale\":[[0.0,\"#0d0887\"],[0.1111111111111111,\"#46039f\"],[0.2222222222222222,\"#7201a8\"],[0.3333333333333333,\"#9c179e\"],[0.4444444444444444,\"#bd3786\"],[0.5555555555555556,\"#d8576b\"],[0.6666666666666666,\"#ed7953\"],[0.7777777777777778,\"#fb9f3a\"],[0.8888888888888888,\"#fdca26\"],[1.0,\"#f0f921\"]]}],\"choropleth\":[{\"type\":\"choropleth\",\"colorbar\":{\"outlinewidth\":0,\"ticks\":\"\"}}],\"histogram2d\":[{\"type\":\"histogram2d\",\"colorbar\":{\"outlinewidth\":0,\"ticks\":\"\"},\"colorscale\":[[0.0,\"#0d0887\"],[0.1111111111111111,\"#46039f\"],[0.2222222222222222,\"#7201a8\"],[0.3333333333333333,\"#9c179e\"],[0.4444444444444444,\"#bd3786\"],[0.5555555555555556,\"#d8576b\"],[0.6666666666666666,\"#ed7953\"],[0.7777777777777778,\"#fb9f3a\"],[0.8888888888888888,\"#fdca26\"],[1.0,\"#f0f921\"]]}],\"heatmap\":[{\"type\":\"heatmap\",\"colorbar\":{\"outlinewidth\":0,\"ticks\":\"\"},\"colorscale\":[[0.0,\"#0d0887\"],[0.1111111111111111,\"#46039f\"],[0.2222222222222222,\"#7201a8\"],[0.3333333333333333,\"#9c179e\"],[0.4444444444444444,\"#bd3786\"],[0.5555555555555556,\"#d8576b\"],[0.6666666666666666,\"#ed7953\"],[0.7777777777777778,\"#fb9f3a\"],[0.8888888888888888,\"#fdca26\"],[1.0,\"#f0f921\"]]}],\"heatmapgl\":[{\"type\":\"heatmapgl\",\"colorbar\":{\"outlinewidth\":0,\"ticks\":\"\"},\"colorscale\":[[0.0,\"#0d0887\"],[0.1111111111111111,\"#46039f\"],[0.2222222222222222,\"#7201a8\"],[0.3333333333333333,\"#9c179e\"],[0.4444444444444444,\"#bd3786\"],[0.5555555555555556,\"#d8576b\"],[0.6666666666666666,\"#ed7953\"],[0.7777777777777778,\"#fb9f3a\"],[0.8888888888888888,\"#fdca26\"],[1.0,\"#f0f921\"]]}],\"contourcarpet\":[{\"type\":\"contourcarpet\",\"colorbar\":{\"outlinewidth\":0,\"ticks\":\"\"}}],\"contour\":[{\"type\":\"contour\",\"colorbar\":{\"outlinewidth\":0,\"ticks\":\"\"},\"colorscale\":[[0.0,\"#0d0887\"],[0.1111111111111111,\"#46039f\"],[0.2222222222222222,\"#7201a8\"],[0.3333333333333333,\"#9c179e\"],[0.4444444444444444,\"#bd3786\"],[0.5555555555555556,\"#d8576b\"],[0.6666666666666666,\"#ed7953\"],[0.7777777777777778,\"#fb9f3a\"],[0.8888888888888888,\"#fdca26\"],[1.0,\"#f0f921\"]]}],\"surface\":[{\"type\":\"surface\",\"colorbar\":{\"outlinewidth\":0,\"ticks\":\"\"},\"colorscale\":[[0.0,\"#0d0887\"],[0.1111111111111111,\"#46039f\"],[0.2222222222222222,\"#7201a8\"],[0.3333333333333333,\"#9c179e\"],[0.4444444444444444,\"#bd3786\"],[0.5555555555555556,\"#d8576b\"],[0.6666666666666666,\"#ed7953\"],[0.7777777777777778,\"#fb9f3a\"],[0.8888888888888888,\"#fdca26\"],[1.0,\"#f0f921\"]]}],\"mesh3d\":[{\"type\":\"mesh3d\",\"colorbar\":{\"outlinewidth\":0,\"ticks\":\"\"}}],\"scatter\":[{\"fillpattern\":{\"fillmode\":\"overlay\",\"size\":10,\"solidity\":0.2},\"type\":\"scatter\"}],\"parcoords\":[{\"type\":\"parcoords\",\"line\":{\"colorbar\":{\"outlinewidth\":0,\"ticks\":\"\"}}}],\"scatterpolargl\":[{\"type\":\"scatterpolargl\",\"marker\":{\"colorbar\":{\"outlinewidth\":0,\"ticks\":\"\"}}}],\"bar\":[{\"error_x\":{\"color\":\"#2a3f5f\"},\"error_y\":{\"color\":\"#2a3f5f\"},\"marker\":{\"line\":{\"color\":\"#E5ECF6\",\"width\":0.5},\"pattern\":{\"fillmode\":\"overlay\",\"size\":10,\"solidity\":0.2}},\"type\":\"bar\"}],\"scattergeo\":[{\"type\":\"scattergeo\",\"marker\":{\"colorbar\":{\"outlinewidth\":0,\"ticks\":\"\"}}}],\"scatterpolar\":[{\"type\":\"scatterpolar\",\"marker\":{\"colorbar\":{\"outlinewidth\":0,\"ticks\":\"\"}}}],\"histogram\":[{\"marker\":{\"pattern\":{\"fillmode\":\"overlay\",\"size\":10,\"solidity\":0.2}},\"type\":\"histogram\"}],\"scattergl\":[{\"type\":\"scattergl\",\"marker\":{\"colorbar\":{\"outlinewidth\":0,\"ticks\":\"\"}}}],\"scatter3d\":[{\"type\":\"scatter3d\",\"line\":{\"colorbar\":{\"outlinewidth\":0,\"ticks\":\"\"}},\"marker\":{\"colorbar\":{\"outlinewidth\":0,\"ticks\":\"\"}}}],\"scattermapbox\":[{\"type\":\"scattermapbox\",\"marker\":{\"colorbar\":{\"outlinewidth\":0,\"ticks\":\"\"}}}],\"scatterternary\":[{\"type\":\"scatterternary\",\"marker\":{\"colorbar\":{\"outlinewidth\":0,\"ticks\":\"\"}}}],\"scattercarpet\":[{\"type\":\"scattercarpet\",\"marker\":{\"colorbar\":{\"outlinewidth\":0,\"ticks\":\"\"}}}],\"carpet\":[{\"aaxis\":{\"endlinecolor\":\"#2a3f5f\",\"gridcolor\":\"white\",\"linecolor\":\"white\",\"minorgridcolor\":\"white\",\"startlinecolor\":\"#2a3f5f\"},\"baxis\":{\"endlinecolor\":\"#2a3f5f\",\"gridcolor\":\"white\",\"linecolor\":\"white\",\"minorgridcolor\":\"white\",\"startlinecolor\":\"#2a3f5f\"},\"type\":\"carpet\"}],\"table\":[{\"cells\":{\"fill\":{\"color\":\"#EBF0F8\"},\"line\":{\"color\":\"white\"}},\"header\":{\"fill\":{\"color\":\"#C8D4E3\"},\"line\":{\"color\":\"white\"}},\"type\":\"table\"}],\"barpolar\":[{\"marker\":{\"line\":{\"color\":\"#E5ECF6\",\"width\":0.5},\"pattern\":{\"fillmode\":\"overlay\",\"size\":10,\"solidity\":0.2}},\"type\":\"barpolar\"}],\"pie\":[{\"automargin\":true,\"type\":\"pie\"}]},\"layout\":{\"autotypenumbers\":\"strict\",\"colorway\":[\"#636efa\",\"#EF553B\",\"#00cc96\",\"#ab63fa\",\"#FFA15A\",\"#19d3f3\",\"#FF6692\",\"#B6E880\",\"#FF97FF\",\"#FECB52\"],\"font\":{\"color\":\"#2a3f5f\"},\"hovermode\":\"closest\",\"hoverlabel\":{\"align\":\"left\"},\"paper_bgcolor\":\"white\",\"plot_bgcolor\":\"#E5ECF6\",\"polar\":{\"bgcolor\":\"#E5ECF6\",\"angularaxis\":{\"gridcolor\":\"white\",\"linecolor\":\"white\",\"ticks\":\"\"},\"radialaxis\":{\"gridcolor\":\"white\",\"linecolor\":\"white\",\"ticks\":\"\"}},\"ternary\":{\"bgcolor\":\"#E5ECF6\",\"aaxis\":{\"gridcolor\":\"white\",\"linecolor\":\"white\",\"ticks\":\"\"},\"baxis\":{\"gridcolor\":\"white\",\"linecolor\":\"white\",\"ticks\":\"\"},\"caxis\":{\"gridcolor\":\"white\",\"linecolor\":\"white\",\"ticks\":\"\"}},\"coloraxis\":{\"colorbar\":{\"outlinewidth\":0,\"ticks\":\"\"}},\"colorscale\":{\"sequential\":[[0.0,\"#0d0887\"],[0.1111111111111111,\"#46039f\"],[0.2222222222222222,\"#7201a8\"],[0.3333333333333333,\"#9c179e\"],[0.4444444444444444,\"#bd3786\"],[0.5555555555555556,\"#d8576b\"],[0.6666666666666666,\"#ed7953\"],[0.7777777777777778,\"#fb9f3a\"],[0.8888888888888888,\"#fdca26\"],[1.0,\"#f0f921\"]],\"sequentialminus\":[[0.0,\"#0d0887\"],[0.1111111111111111,\"#46039f\"],[0.2222222222222222,\"#7201a8\"],[0.3333333333333333,\"#9c179e\"],[0.4444444444444444,\"#bd3786\"],[0.5555555555555556,\"#d8576b\"],[0.6666666666666666,\"#ed7953\"],[0.7777777777777778,\"#fb9f3a\"],[0.8888888888888888,\"#fdca26\"],[1.0,\"#f0f921\"]],\"diverging\":[[0,\"#8e0152\"],[0.1,\"#c51b7d\"],[0.2,\"#de77ae\"],[0.3,\"#f1b6da\"],[0.4,\"#fde0ef\"],[0.5,\"#f7f7f7\"],[0.6,\"#e6f5d0\"],[0.7,\"#b8e186\"],[0.8,\"#7fbc41\"],[0.9,\"#4d9221\"],[1,\"#276419\"]]},\"xaxis\":{\"gridcolor\":\"white\",\"linecolor\":\"white\",\"ticks\":\"\",\"title\":{\"standoff\":15},\"zerolinecolor\":\"white\",\"automargin\":true,\"zerolinewidth\":2},\"yaxis\":{\"gridcolor\":\"white\",\"linecolor\":\"white\",\"ticks\":\"\",\"title\":{\"standoff\":15},\"zerolinecolor\":\"white\",\"automargin\":true,\"zerolinewidth\":2},\"scene\":{\"xaxis\":{\"backgroundcolor\":\"#E5ECF6\",\"gridcolor\":\"white\",\"linecolor\":\"white\",\"showbackground\":true,\"ticks\":\"\",\"zerolinecolor\":\"white\",\"gridwidth\":2},\"yaxis\":{\"backgroundcolor\":\"#E5ECF6\",\"gridcolor\":\"white\",\"linecolor\":\"white\",\"showbackground\":true,\"ticks\":\"\",\"zerolinecolor\":\"white\",\"gridwidth\":2},\"zaxis\":{\"backgroundcolor\":\"#E5ECF6\",\"gridcolor\":\"white\",\"linecolor\":\"white\",\"showbackground\":true,\"ticks\":\"\",\"zerolinecolor\":\"white\",\"gridwidth\":2}},\"shapedefaults\":{\"line\":{\"color\":\"#2a3f5f\"}},\"annotationdefaults\":{\"arrowcolor\":\"#2a3f5f\",\"arrowhead\":0,\"arrowwidth\":1},\"geo\":{\"bgcolor\":\"white\",\"landcolor\":\"#E5ECF6\",\"subunitcolor\":\"white\",\"showland\":true,\"showlakes\":true,\"lakecolor\":\"white\"},\"title\":{\"x\":0.05},\"mapbox\":{\"style\":\"light\"}}},\"xaxis\":{\"anchor\":\"y\",\"domain\":[0.0,1.0],\"title\":{\"text\":\"num\"}},\"yaxis\":{\"anchor\":\"x\",\"domain\":[0.0,1.0],\"title\":{\"text\":\"first1_x\"}},\"legend\":{\"title\":{\"text\":\"name\"},\"tracegroupgap\":0},\"margin\":{\"t\":60},\"barmode\":\"relative\",\"updatemenus\":[{\"buttons\":[{\"args\":[null,{\"frame\":{\"duration\":500,\"redraw\":true},\"mode\":\"immediate\",\"fromcurrent\":true,\"transition\":{\"duration\":500,\"easing\":\"linear\"}}],\"label\":\"&#9654;\",\"method\":\"animate\"},{\"args\":[[null],{\"frame\":{\"duration\":0,\"redraw\":true},\"mode\":\"immediate\",\"fromcurrent\":true,\"transition\":{\"duration\":0,\"easing\":\"linear\"}}],\"label\":\"&#9724;\",\"method\":\"animate\"}],\"direction\":\"left\",\"pad\":{\"r\":10,\"t\":70},\"showactive\":false,\"type\":\"buttons\",\"x\":0.1,\"xanchor\":\"right\",\"y\":0,\"yanchor\":\"top\"}],\"sliders\":[{\"active\":0,\"currentvalue\":{\"prefix\":\"name=\"},\"len\":0.9,\"pad\":{\"b\":10,\"t\":60},\"steps\":[{\"args\":[[\"first1_x\"],{\"frame\":{\"duration\":0,\"redraw\":true},\"mode\":\"immediate\",\"fromcurrent\":true,\"transition\":{\"duration\":0,\"easing\":\"linear\"}}],\"label\":\"first1_x\",\"method\":\"animate\"},{\"args\":[[\"first2_x\"],{\"frame\":{\"duration\":0,\"redraw\":true},\"mode\":\"immediate\",\"fromcurrent\":true,\"transition\":{\"duration\":0,\"easing\":\"linear\"}}],\"label\":\"first2_x\",\"method\":\"animate\"},{\"args\":[[\"first3_x\"],{\"frame\":{\"duration\":0,\"redraw\":true},\"mode\":\"immediate\",\"fromcurrent\":true,\"transition\":{\"duration\":0,\"easing\":\"linear\"}}],\"label\":\"first3_x\",\"method\":\"animate\"},{\"args\":[[\"first4_x\"],{\"frame\":{\"duration\":0,\"redraw\":true},\"mode\":\"immediate\",\"fromcurrent\":true,\"transition\":{\"duration\":0,\"easing\":\"linear\"}}],\"label\":\"first4_x\",\"method\":\"animate\"},{\"args\":[[\"first5_x\"],{\"frame\":{\"duration\":0,\"redraw\":true},\"mode\":\"immediate\",\"fromcurrent\":true,\"transition\":{\"duration\":0,\"easing\":\"linear\"}}],\"label\":\"first5_x\",\"method\":\"animate\"}],\"x\":0.1,\"xanchor\":\"left\",\"y\":0,\"yanchor\":\"top\"}]},                        {\"responsive\": true}                    ).then(function(){\n",
       "                            Plotly.addFrames('e14713fc-47c0-4945-a596-1c04339d75e4', [{\"data\":[{\"alignmentgroup\":\"True\",\"hovertemplate\":\"name=first1_x<br>num=%{x}<br>first1_x=%{y}<extra></extra>\",\"legendgroup\":\"first1_x\",\"marker\":{\"color\":\"#636efa\",\"pattern\":{\"shape\":\"\"}},\"name\":\"first1_x\",\"offsetgroup\":\"first1_x\",\"orientation\":\"h\",\"showlegend\":true,\"textposition\":\"auto\",\"x\":[345,285,265,201,202,153,162,109,95,92,78,54,47,49,35,33,22,20,18,15,15,7,7,5,1,2,1,1,1],\"xaxis\":\"x\",\"y\":[\"01\",\"02\",\"03\",\"04\",\"05\",\"06\",\"07\",\"08\",\"09\",\"10\",\"11\",\"12\",\"13\",\"14\",\"15\",\"16\",\"17\",\"18\",\"19\",\"20\",\"21\",\"22\",\"23\",\"24\",\"25\",\"26\",\"27\",\"29\",\"30\"],\"yaxis\":\"y\",\"type\":\"bar\"}],\"name\":\"first1_x\"},{\"data\":[{\"alignmentgroup\":\"True\",\"hovertemplate\":\"name=first2_x<br>num=%{x}<br>first1_x=%{y}<extra></extra>\",\"legendgroup\":\"first2_x\",\"marker\":{\"color\":\"#EF553B\",\"pattern\":{\"shape\":\"\"}},\"name\":\"first2_x\",\"offsetgroup\":\"first2_x\",\"orientation\":\"h\",\"showlegend\":true,\"textposition\":\"auto\",\"x\":[52,62,93,121,130,134,130,150,135,151,130,116,109,105,94,87,84,77,64,67,63,42,35,27,22,12,8,9,2,5,4],\"xaxis\":\"x\",\"y\":[\"02\",\"03\",\"04\",\"05\",\"06\",\"07\",\"08\",\"09\",\"10\",\"11\",\"12\",\"13\",\"14\",\"15\",\"16\",\"17\",\"18\",\"19\",\"20\",\"21\",\"22\",\"23\",\"24\",\"25\",\"26\",\"27\",\"28\",\"29\",\"30\",\"31\",\"32\"],\"yaxis\":\"y\",\"type\":\"bar\"}],\"name\":\"first2_x\"},{\"data\":[{\"alignmentgroup\":\"True\",\"hovertemplate\":\"name=first3_x<br>num=%{x}<br>first1_x=%{y}<extra></extra>\",\"legendgroup\":\"first3_x\",\"marker\":{\"color\":\"#00cc96\",\"pattern\":{\"shape\":\"\"}},\"name\":\"first3_x\",\"offsetgroup\":\"first3_x\",\"orientation\":\"h\",\"showlegend\":true,\"textposition\":\"auto\",\"x\":[4,4,15,29,43,49,50,78,81,81,116,116,95,93,123,121,140,129,99,135,118,103,91,82,77,72,64,50,33,16,13],\"xaxis\":\"x\",\"y\":[\"03\",\"04\",\"05\",\"06\",\"07\",\"08\",\"09\",\"10\",\"11\",\"12\",\"13\",\"14\",\"15\",\"16\",\"17\",\"18\",\"19\",\"20\",\"21\",\"22\",\"23\",\"24\",\"25\",\"26\",\"27\",\"28\",\"29\",\"30\",\"31\",\"32\",\"33\"],\"yaxis\":\"y\",\"type\":\"bar\"}],\"name\":\"first3_x\"},{\"data\":[{\"alignmentgroup\":\"True\",\"hovertemplate\":\"name=first4_x<br>num=%{x}<br>first1_x=%{y}<extra></extra>\",\"legendgroup\":\"first4_x\",\"marker\":{\"color\":\"#ab63fa\",\"pattern\":{\"shape\":\"\"}},\"name\":\"first4_x\",\"offsetgroup\":\"first4_x\",\"orientation\":\"h\",\"showlegend\":true,\"textposition\":\"auto\",\"x\":[1,1,5,8,13,11,26,33,27,39,59,38,62,69,84,90,92,117,121,112,135,140,141,126,183,161,135,137,91,63],\"xaxis\":\"x\",\"y\":[\"04\",\"06\",\"07\",\"08\",\"09\",\"10\",\"11\",\"12\",\"13\",\"14\",\"15\",\"16\",\"17\",\"18\",\"19\",\"20\",\"21\",\"22\",\"23\",\"24\",\"25\",\"26\",\"27\",\"28\",\"29\",\"30\",\"31\",\"32\",\"33\",\"34\"],\"yaxis\":\"y\",\"type\":\"bar\"}],\"name\":\"first4_x\"},{\"data\":[{\"alignmentgroup\":\"True\",\"hovertemplate\":\"name=first5_x<br>num=%{x}<br>first1_x=%{y}<extra></extra>\",\"legendgroup\":\"first5_x\",\"marker\":{\"color\":\"#FFA15A\",\"pattern\":{\"shape\":\"\"}},\"name\":\"first5_x\",\"offsetgroup\":\"first5_x\",\"orientation\":\"h\",\"showlegend\":true,\"textposition\":\"auto\",\"x\":[1,1,1,2,4,1,7,9,13,19,22,23,27,42,39,50,78,69,98,110,138,175,175,222,302,292,400],\"xaxis\":\"x\",\"y\":[\"08\",\"10\",\"11\",\"12\",\"13\",\"14\",\"15\",\"16\",\"17\",\"18\",\"19\",\"20\",\"21\",\"22\",\"23\",\"24\",\"25\",\"26\",\"27\",\"28\",\"29\",\"30\",\"31\",\"32\",\"33\",\"34\",\"35\"],\"yaxis\":\"y\",\"type\":\"bar\"}],\"name\":\"first5_x\"}]);\n",
       "                        }).then(function(){\n",
       "                            \n",
       "var gd = document.getElementById('e14713fc-47c0-4945-a596-1c04339d75e4');\n",
       "var x = new MutationObserver(function (mutations, observer) {{\n",
       "        var display = window.getComputedStyle(gd).display;\n",
       "        if (!display || display === 'none') {{\n",
       "            console.log([gd, 'removed!']);\n",
       "            Plotly.purge(gd);\n",
       "            observer.disconnect();\n",
       "        }}\n",
       "}});\n",
       "\n",
       "// Listen for the removal of the full notebook cells\n",
       "var notebookContainer = gd.closest('#notebook-container');\n",
       "if (notebookContainer) {{\n",
       "    x.observe(notebookContainer, {childList: true});\n",
       "}}\n",
       "\n",
       "// Listen for the clearing of the current output cell\n",
       "var outputEl = gd.closest('.output');\n",
       "if (outputEl) {{\n",
       "    x.observe(outputEl, {childList: true});\n",
       "}}\n",
       "\n",
       "                        })                };                });            </script>        </div>"
      ]
     },
     "metadata": {},
     "output_type": "display_data"
    }
   ],
   "source": [
    "import plotly.express as px\n",
    "import pandas as pd\n",
    "fig = px.bar(\n",
    "    df,\n",
    "    y=\"first1_x\",\n",
    "    x=\"num\",\n",
    "    animation_frame=\"name\",\n",
    "    color=\"name\")\n",
    "fig.show()\n"
   ]
  },
  {
   "cell_type": "code",
   "execution_count": 114,
   "id": "05056ae0",
   "metadata": {},
   "outputs": [
    {
     "name": "stderr",
     "output_type": "stream",
     "text": [
      "C:\\ProgramData\\Anaconda3\\lib\\site-packages\\pandas\\io\\sql.py:762: UserWarning:\n",
      "\n",
      "pandas only support SQLAlchemy connectable(engine/connection) ordatabase string URI or sqlite3 DBAPI2 connectionother DBAPI2 objects are not tested, please consider using SQLAlchemy\n",
      "\n"
     ]
    }
   ],
   "source": [
    "df=pd.read_sql(\"SELECT * from my_data.lottery_data\",conn)\n",
    "df1 = df[['lotteryDrawNum', 'first1_x', 'first2_x', 'first3_x', 'first4_x', 'first5_x', 'last1_x', 'last2_x','first1_num', 'first2_num', 'first3_num', 'first4_num', 'first5_num', 'last1_num', 'last2_num']]"
   ]
  },
  {
   "cell_type": "code",
   "execution_count": 215,
   "id": "9144fb21",
   "metadata": {},
   "outputs": [
    {
     "data": {
      "text/html": [
       "<div>\n",
       "<style scoped>\n",
       "    .dataframe tbody tr th:only-of-type {\n",
       "        vertical-align: middle;\n",
       "    }\n",
       "\n",
       "    .dataframe tbody tr th {\n",
       "        vertical-align: top;\n",
       "    }\n",
       "\n",
       "    .dataframe thead th {\n",
       "        text-align: right;\n",
       "    }\n",
       "</style>\n",
       "<table border=\"1\" class=\"dataframe\">\n",
       "  <thead>\n",
       "    <tr style=\"text-align: right;\">\n",
       "      <th></th>\n",
       "      <th>lotteryDrawNum</th>\n",
       "      <th>first1_x</th>\n",
       "      <th>first2_x</th>\n",
       "      <th>first3_x</th>\n",
       "      <th>first4_x</th>\n",
       "      <th>first5_x</th>\n",
       "      <th>last1_x</th>\n",
       "      <th>last2_x</th>\n",
       "      <th>first1_num</th>\n",
       "      <th>first2_num</th>\n",
       "      <th>first3_num</th>\n",
       "      <th>first4_num</th>\n",
       "      <th>first5_num</th>\n",
       "      <th>last1_num</th>\n",
       "      <th>last2_num</th>\n",
       "    </tr>\n",
       "  </thead>\n",
       "  <tbody>\n",
       "    <tr>\n",
       "      <th>0</th>\n",
       "      <td>23048</td>\n",
       "      <td>07</td>\n",
       "      <td>13</td>\n",
       "      <td>16</td>\n",
       "      <td>25</td>\n",
       "      <td>32</td>\n",
       "      <td>09</td>\n",
       "      <td>11</td>\n",
       "      <td>3.0</td>\n",
       "      <td>12.0</td>\n",
       "      <td>11.0</td>\n",
       "      <td>13.0</td>\n",
       "      <td>2.0</td>\n",
       "      <td>19.0</td>\n",
       "      <td>13.0</td>\n",
       "    </tr>\n",
       "    <tr>\n",
       "      <th>1</th>\n",
       "      <td>23047</td>\n",
       "      <td>10</td>\n",
       "      <td>12</td>\n",
       "      <td>13</td>\n",
       "      <td>24</td>\n",
       "      <td>25</td>\n",
       "      <td>11</td>\n",
       "      <td>12</td>\n",
       "      <td>902.0</td>\n",
       "      <td>900.0</td>\n",
       "      <td>2.0</td>\n",
       "      <td>906.0</td>\n",
       "      <td>14.0</td>\n",
       "      <td>22.0</td>\n",
       "      <td>7.0</td>\n",
       "    </tr>\n",
       "    <tr>\n",
       "      <th>2</th>\n",
       "      <td>23046</td>\n",
       "      <td>13</td>\n",
       "      <td>21</td>\n",
       "      <td>25</td>\n",
       "      <td>28</td>\n",
       "      <td>32</td>\n",
       "      <td>02</td>\n",
       "      <td>10</td>\n",
       "      <td>933.0</td>\n",
       "      <td>23.0</td>\n",
       "      <td>906.0</td>\n",
       "      <td>1.0</td>\n",
       "      <td>8.0</td>\n",
       "      <td>10.0</td>\n",
       "      <td>2.0</td>\n",
       "    </tr>\n",
       "    <tr>\n",
       "      <th>3</th>\n",
       "      <td>23045</td>\n",
       "      <td>07</td>\n",
       "      <td>10</td>\n",
       "      <td>13</td>\n",
       "      <td>28</td>\n",
       "      <td>31</td>\n",
       "      <td>04</td>\n",
       "      <td>05</td>\n",
       "      <td>10.0</td>\n",
       "      <td>7.0</td>\n",
       "      <td>4.0</td>\n",
       "      <td>13.0</td>\n",
       "      <td>9.0</td>\n",
       "      <td>11.0</td>\n",
       "      <td>24.0</td>\n",
       "    </tr>\n",
       "    <tr>\n",
       "      <th>4</th>\n",
       "      <td>23044</td>\n",
       "      <td>02</td>\n",
       "      <td>06</td>\n",
       "      <td>07</td>\n",
       "      <td>08</td>\n",
       "      <td>15</td>\n",
       "      <td>07</td>\n",
       "      <td>10</td>\n",
       "      <td>1.0</td>\n",
       "      <td>11.0</td>\n",
       "      <td>950.0</td>\n",
       "      <td>2919.0</td>\n",
       "      <td>4001.0</td>\n",
       "      <td>7.0</td>\n",
       "      <td>8.0</td>\n",
       "    </tr>\n",
       "    <tr>\n",
       "      <th>...</th>\n",
       "      <td>...</td>\n",
       "      <td>...</td>\n",
       "      <td>...</td>\n",
       "      <td>...</td>\n",
       "      <td>...</td>\n",
       "      <td>...</td>\n",
       "      <td>...</td>\n",
       "      <td>...</td>\n",
       "      <td>...</td>\n",
       "      <td>...</td>\n",
       "      <td>...</td>\n",
       "      <td>...</td>\n",
       "      <td>...</td>\n",
       "      <td>...</td>\n",
       "      <td>...</td>\n",
       "    </tr>\n",
       "    <tr>\n",
       "      <th>2315</th>\n",
       "      <td>7020</td>\n",
       "      <td>02</td>\n",
       "      <td>06</td>\n",
       "      <td>11</td>\n",
       "      <td>12</td>\n",
       "      <td>18</td>\n",
       "      <td>05</td>\n",
       "      <td>12</td>\n",
       "      <td>7020.0</td>\n",
       "      <td>1.0</td>\n",
       "      <td>7020.0</td>\n",
       "      <td>7020.0</td>\n",
       "      <td>7020.0</td>\n",
       "      <td>7020.0</td>\n",
       "      <td>3.0</td>\n",
       "    </tr>\n",
       "    <tr>\n",
       "      <th>2316</th>\n",
       "      <td>7019</td>\n",
       "      <td>03</td>\n",
       "      <td>06</td>\n",
       "      <td>17</td>\n",
       "      <td>22</td>\n",
       "      <td>23</td>\n",
       "      <td>04</td>\n",
       "      <td>06</td>\n",
       "      <td>1.0</td>\n",
       "      <td>7019.0</td>\n",
       "      <td>7019.0</td>\n",
       "      <td>7019.0</td>\n",
       "      <td>7019.0</td>\n",
       "      <td>7019.0</td>\n",
       "      <td>7019.0</td>\n",
       "    </tr>\n",
       "    <tr>\n",
       "      <th>2317</th>\n",
       "      <td>7018</td>\n",
       "      <td>03</td>\n",
       "      <td>04</td>\n",
       "      <td>16</td>\n",
       "      <td>23</td>\n",
       "      <td>28</td>\n",
       "      <td>06</td>\n",
       "      <td>09</td>\n",
       "      <td>7018.0</td>\n",
       "      <td>7018.0</td>\n",
       "      <td>7018.0</td>\n",
       "      <td>7018.0</td>\n",
       "      <td>7018.0</td>\n",
       "      <td>7018.0</td>\n",
       "      <td>7018.0</td>\n",
       "    </tr>\n",
       "    <tr>\n",
       "      <th>2318</th>\n",
       "      <td>7017</td>\n",
       "      <td>13</td>\n",
       "      <td>14</td>\n",
       "      <td>29</td>\n",
       "      <td>32</td>\n",
       "      <td>34</td>\n",
       "      <td>03</td>\n",
       "      <td>12</td>\n",
       "      <td>7017.0</td>\n",
       "      <td>1.0</td>\n",
       "      <td>7017.0</td>\n",
       "      <td>7017.0</td>\n",
       "      <td>7017.0</td>\n",
       "      <td>1.0</td>\n",
       "      <td>1.0</td>\n",
       "    </tr>\n",
       "    <tr>\n",
       "      <th>2319</th>\n",
       "      <td>7016</td>\n",
       "      <td>01</td>\n",
       "      <td>14</td>\n",
       "      <td>19</td>\n",
       "      <td>24</td>\n",
       "      <td>31</td>\n",
       "      <td>03</td>\n",
       "      <td>12</td>\n",
       "      <td>7016.0</td>\n",
       "      <td>7016.0</td>\n",
       "      <td>7016.0</td>\n",
       "      <td>7016.0</td>\n",
       "      <td>7016.0</td>\n",
       "      <td>7016.0</td>\n",
       "      <td>7016.0</td>\n",
       "    </tr>\n",
       "  </tbody>\n",
       "</table>\n",
       "<p>2320 rows × 15 columns</p>\n",
       "</div>"
      ],
      "text/plain": [
       "      lotteryDrawNum first1_x first2_x first3_x first4_x first5_x last1_x  \\\n",
       "0              23048       07       13       16       25       32      09   \n",
       "1              23047       10       12       13       24       25      11   \n",
       "2              23046       13       21       25       28       32      02   \n",
       "3              23045       07       10       13       28       31      04   \n",
       "4              23044       02       06       07       08       15      07   \n",
       "...              ...      ...      ...      ...      ...      ...     ...   \n",
       "2315            7020       02       06       11       12       18      05   \n",
       "2316            7019       03       06       17       22       23      04   \n",
       "2317            7018       03       04       16       23       28      06   \n",
       "2318            7017       13       14       29       32       34      03   \n",
       "2319            7016       01       14       19       24       31      03   \n",
       "\n",
       "     last2_x  first1_num  first2_num  first3_num  first4_num  first5_num  \\\n",
       "0         11         3.0        12.0        11.0        13.0         2.0   \n",
       "1         12       902.0       900.0         2.0       906.0        14.0   \n",
       "2         10       933.0        23.0       906.0         1.0         8.0   \n",
       "3         05        10.0         7.0         4.0        13.0         9.0   \n",
       "4         10         1.0        11.0       950.0      2919.0      4001.0   \n",
       "...      ...         ...         ...         ...         ...         ...   \n",
       "2315      12      7020.0         1.0      7020.0      7020.0      7020.0   \n",
       "2316      06         1.0      7019.0      7019.0      7019.0      7019.0   \n",
       "2317      09      7018.0      7018.0      7018.0      7018.0      7018.0   \n",
       "2318      12      7017.0         1.0      7017.0      7017.0      7017.0   \n",
       "2319      12      7016.0      7016.0      7016.0      7016.0      7016.0   \n",
       "\n",
       "      last1_num  last2_num  \n",
       "0          19.0       13.0  \n",
       "1          22.0        7.0  \n",
       "2          10.0        2.0  \n",
       "3          11.0       24.0  \n",
       "4           7.0        8.0  \n",
       "...         ...        ...  \n",
       "2315     7020.0        3.0  \n",
       "2316     7019.0     7019.0  \n",
       "2317     7018.0     7018.0  \n",
       "2318        1.0        1.0  \n",
       "2319     7016.0     7016.0  \n",
       "\n",
       "[2320 rows x 15 columns]"
      ]
     },
     "execution_count": 215,
     "metadata": {},
     "output_type": "execute_result"
    }
   ],
   "source": [
    "df1"
   ]
  },
  {
   "cell_type": "code",
   "execution_count": 265,
   "id": "69639146",
   "metadata": {},
   "outputs": [
    {
     "data": {
      "text/html": [
       "<div>\n",
       "<style scoped>\n",
       "    .dataframe tbody tr th:only-of-type {\n",
       "        vertical-align: middle;\n",
       "    }\n",
       "\n",
       "    .dataframe tbody tr th {\n",
       "        vertical-align: top;\n",
       "    }\n",
       "\n",
       "    .dataframe thead th {\n",
       "        text-align: right;\n",
       "    }\n",
       "</style>\n",
       "<table border=\"1\" class=\"dataframe\">\n",
       "  <thead>\n",
       "    <tr style=\"text-align: right;\">\n",
       "      <th></th>\n",
       "      <th>01</th>\n",
       "      <th>02</th>\n",
       "      <th>03</th>\n",
       "      <th>04</th>\n",
       "      <th>05</th>\n",
       "      <th>06</th>\n",
       "      <th>07</th>\n",
       "      <th>08</th>\n",
       "      <th>09</th>\n",
       "      <th>10</th>\n",
       "      <th>...</th>\n",
       "      <th>26</th>\n",
       "      <th>27</th>\n",
       "      <th>28</th>\n",
       "      <th>29</th>\n",
       "      <th>30</th>\n",
       "      <th>31</th>\n",
       "      <th>32</th>\n",
       "      <th>33</th>\n",
       "      <th>34</th>\n",
       "      <th>35</th>\n",
       "    </tr>\n",
       "  </thead>\n",
       "  <tbody>\n",
       "    <tr>\n",
       "      <th>0</th>\n",
       "      <td>False</td>\n",
       "      <td>False</td>\n",
       "      <td>False</td>\n",
       "      <td>False</td>\n",
       "      <td>False</td>\n",
       "      <td>False</td>\n",
       "      <td>True</td>\n",
       "      <td>False</td>\n",
       "      <td>False</td>\n",
       "      <td>False</td>\n",
       "      <td>...</td>\n",
       "      <td>False</td>\n",
       "      <td>False</td>\n",
       "      <td>False</td>\n",
       "      <td>False</td>\n",
       "      <td>False</td>\n",
       "      <td>False</td>\n",
       "      <td>True</td>\n",
       "      <td>False</td>\n",
       "      <td>False</td>\n",
       "      <td>False</td>\n",
       "    </tr>\n",
       "    <tr>\n",
       "      <th>1</th>\n",
       "      <td>False</td>\n",
       "      <td>False</td>\n",
       "      <td>False</td>\n",
       "      <td>False</td>\n",
       "      <td>False</td>\n",
       "      <td>False</td>\n",
       "      <td>False</td>\n",
       "      <td>False</td>\n",
       "      <td>False</td>\n",
       "      <td>True</td>\n",
       "      <td>...</td>\n",
       "      <td>False</td>\n",
       "      <td>False</td>\n",
       "      <td>False</td>\n",
       "      <td>False</td>\n",
       "      <td>False</td>\n",
       "      <td>False</td>\n",
       "      <td>False</td>\n",
       "      <td>False</td>\n",
       "      <td>False</td>\n",
       "      <td>False</td>\n",
       "    </tr>\n",
       "    <tr>\n",
       "      <th>2</th>\n",
       "      <td>False</td>\n",
       "      <td>False</td>\n",
       "      <td>False</td>\n",
       "      <td>False</td>\n",
       "      <td>False</td>\n",
       "      <td>False</td>\n",
       "      <td>False</td>\n",
       "      <td>False</td>\n",
       "      <td>False</td>\n",
       "      <td>False</td>\n",
       "      <td>...</td>\n",
       "      <td>False</td>\n",
       "      <td>False</td>\n",
       "      <td>True</td>\n",
       "      <td>False</td>\n",
       "      <td>False</td>\n",
       "      <td>False</td>\n",
       "      <td>True</td>\n",
       "      <td>False</td>\n",
       "      <td>False</td>\n",
       "      <td>False</td>\n",
       "    </tr>\n",
       "    <tr>\n",
       "      <th>3</th>\n",
       "      <td>False</td>\n",
       "      <td>False</td>\n",
       "      <td>False</td>\n",
       "      <td>False</td>\n",
       "      <td>False</td>\n",
       "      <td>False</td>\n",
       "      <td>True</td>\n",
       "      <td>False</td>\n",
       "      <td>False</td>\n",
       "      <td>True</td>\n",
       "      <td>...</td>\n",
       "      <td>False</td>\n",
       "      <td>False</td>\n",
       "      <td>True</td>\n",
       "      <td>False</td>\n",
       "      <td>False</td>\n",
       "      <td>True</td>\n",
       "      <td>False</td>\n",
       "      <td>False</td>\n",
       "      <td>False</td>\n",
       "      <td>False</td>\n",
       "    </tr>\n",
       "    <tr>\n",
       "      <th>4</th>\n",
       "      <td>False</td>\n",
       "      <td>True</td>\n",
       "      <td>False</td>\n",
       "      <td>False</td>\n",
       "      <td>False</td>\n",
       "      <td>True</td>\n",
       "      <td>True</td>\n",
       "      <td>True</td>\n",
       "      <td>False</td>\n",
       "      <td>False</td>\n",
       "      <td>...</td>\n",
       "      <td>False</td>\n",
       "      <td>False</td>\n",
       "      <td>False</td>\n",
       "      <td>False</td>\n",
       "      <td>False</td>\n",
       "      <td>False</td>\n",
       "      <td>False</td>\n",
       "      <td>False</td>\n",
       "      <td>False</td>\n",
       "      <td>False</td>\n",
       "    </tr>\n",
       "    <tr>\n",
       "      <th>...</th>\n",
       "      <td>...</td>\n",
       "      <td>...</td>\n",
       "      <td>...</td>\n",
       "      <td>...</td>\n",
       "      <td>...</td>\n",
       "      <td>...</td>\n",
       "      <td>...</td>\n",
       "      <td>...</td>\n",
       "      <td>...</td>\n",
       "      <td>...</td>\n",
       "      <td>...</td>\n",
       "      <td>...</td>\n",
       "      <td>...</td>\n",
       "      <td>...</td>\n",
       "      <td>...</td>\n",
       "      <td>...</td>\n",
       "      <td>...</td>\n",
       "      <td>...</td>\n",
       "      <td>...</td>\n",
       "      <td>...</td>\n",
       "      <td>...</td>\n",
       "    </tr>\n",
       "    <tr>\n",
       "      <th>2315</th>\n",
       "      <td>False</td>\n",
       "      <td>True</td>\n",
       "      <td>False</td>\n",
       "      <td>False</td>\n",
       "      <td>False</td>\n",
       "      <td>True</td>\n",
       "      <td>False</td>\n",
       "      <td>False</td>\n",
       "      <td>False</td>\n",
       "      <td>False</td>\n",
       "      <td>...</td>\n",
       "      <td>False</td>\n",
       "      <td>False</td>\n",
       "      <td>False</td>\n",
       "      <td>False</td>\n",
       "      <td>False</td>\n",
       "      <td>False</td>\n",
       "      <td>False</td>\n",
       "      <td>False</td>\n",
       "      <td>False</td>\n",
       "      <td>False</td>\n",
       "    </tr>\n",
       "    <tr>\n",
       "      <th>2316</th>\n",
       "      <td>False</td>\n",
       "      <td>False</td>\n",
       "      <td>True</td>\n",
       "      <td>False</td>\n",
       "      <td>False</td>\n",
       "      <td>True</td>\n",
       "      <td>False</td>\n",
       "      <td>False</td>\n",
       "      <td>False</td>\n",
       "      <td>False</td>\n",
       "      <td>...</td>\n",
       "      <td>False</td>\n",
       "      <td>False</td>\n",
       "      <td>False</td>\n",
       "      <td>False</td>\n",
       "      <td>False</td>\n",
       "      <td>False</td>\n",
       "      <td>False</td>\n",
       "      <td>False</td>\n",
       "      <td>False</td>\n",
       "      <td>False</td>\n",
       "    </tr>\n",
       "    <tr>\n",
       "      <th>2317</th>\n",
       "      <td>False</td>\n",
       "      <td>False</td>\n",
       "      <td>True</td>\n",
       "      <td>True</td>\n",
       "      <td>False</td>\n",
       "      <td>False</td>\n",
       "      <td>False</td>\n",
       "      <td>False</td>\n",
       "      <td>False</td>\n",
       "      <td>False</td>\n",
       "      <td>...</td>\n",
       "      <td>False</td>\n",
       "      <td>False</td>\n",
       "      <td>True</td>\n",
       "      <td>False</td>\n",
       "      <td>False</td>\n",
       "      <td>False</td>\n",
       "      <td>False</td>\n",
       "      <td>False</td>\n",
       "      <td>False</td>\n",
       "      <td>False</td>\n",
       "    </tr>\n",
       "    <tr>\n",
       "      <th>2318</th>\n",
       "      <td>False</td>\n",
       "      <td>False</td>\n",
       "      <td>False</td>\n",
       "      <td>False</td>\n",
       "      <td>False</td>\n",
       "      <td>False</td>\n",
       "      <td>False</td>\n",
       "      <td>False</td>\n",
       "      <td>False</td>\n",
       "      <td>False</td>\n",
       "      <td>...</td>\n",
       "      <td>False</td>\n",
       "      <td>False</td>\n",
       "      <td>False</td>\n",
       "      <td>True</td>\n",
       "      <td>False</td>\n",
       "      <td>False</td>\n",
       "      <td>True</td>\n",
       "      <td>False</td>\n",
       "      <td>True</td>\n",
       "      <td>False</td>\n",
       "    </tr>\n",
       "    <tr>\n",
       "      <th>2319</th>\n",
       "      <td>True</td>\n",
       "      <td>False</td>\n",
       "      <td>False</td>\n",
       "      <td>False</td>\n",
       "      <td>False</td>\n",
       "      <td>False</td>\n",
       "      <td>False</td>\n",
       "      <td>False</td>\n",
       "      <td>False</td>\n",
       "      <td>False</td>\n",
       "      <td>...</td>\n",
       "      <td>False</td>\n",
       "      <td>False</td>\n",
       "      <td>False</td>\n",
       "      <td>False</td>\n",
       "      <td>False</td>\n",
       "      <td>True</td>\n",
       "      <td>False</td>\n",
       "      <td>False</td>\n",
       "      <td>False</td>\n",
       "      <td>False</td>\n",
       "    </tr>\n",
       "  </tbody>\n",
       "</table>\n",
       "<p>2320 rows × 35 columns</p>\n",
       "</div>"
      ],
      "text/plain": [
       "         01     02     03     04     05     06     07     08     09     10  \\\n",
       "0     False  False  False  False  False  False   True  False  False  False   \n",
       "1     False  False  False  False  False  False  False  False  False   True   \n",
       "2     False  False  False  False  False  False  False  False  False  False   \n",
       "3     False  False  False  False  False  False   True  False  False   True   \n",
       "4     False   True  False  False  False   True   True   True  False  False   \n",
       "...     ...    ...    ...    ...    ...    ...    ...    ...    ...    ...   \n",
       "2315  False   True  False  False  False   True  False  False  False  False   \n",
       "2316  False  False   True  False  False   True  False  False  False  False   \n",
       "2317  False  False   True   True  False  False  False  False  False  False   \n",
       "2318  False  False  False  False  False  False  False  False  False  False   \n",
       "2319   True  False  False  False  False  False  False  False  False  False   \n",
       "\n",
       "      ...     26     27     28     29     30     31     32     33     34  \\\n",
       "0     ...  False  False  False  False  False  False   True  False  False   \n",
       "1     ...  False  False  False  False  False  False  False  False  False   \n",
       "2     ...  False  False   True  False  False  False   True  False  False   \n",
       "3     ...  False  False   True  False  False   True  False  False  False   \n",
       "4     ...  False  False  False  False  False  False  False  False  False   \n",
       "...   ...    ...    ...    ...    ...    ...    ...    ...    ...    ...   \n",
       "2315  ...  False  False  False  False  False  False  False  False  False   \n",
       "2316  ...  False  False  False  False  False  False  False  False  False   \n",
       "2317  ...  False  False   True  False  False  False  False  False  False   \n",
       "2318  ...  False  False  False   True  False  False   True  False   True   \n",
       "2319  ...  False  False  False  False  False   True  False  False  False   \n",
       "\n",
       "         35  \n",
       "0     False  \n",
       "1     False  \n",
       "2     False  \n",
       "3     False  \n",
       "4     False  \n",
       "...     ...  \n",
       "2315  False  \n",
       "2316  False  \n",
       "2317  False  \n",
       "2318  False  \n",
       "2319  False  \n",
       "\n",
       "[2320 rows x 35 columns]"
      ]
     },
     "execution_count": 265,
     "metadata": {},
     "output_type": "execute_result"
    }
   ],
   "source": [
    "from mlxtend.preprocessing import TransactionEncoder\n",
    "\n",
    "d=TransactionEncoder()\n",
    "d_data=d.fit(df1[['first1_x','first2_x','first3_x','first4_x','first5_x']].values).transform(df1[['first1_x','first2_x','first3_x','first4_x','first5_x']].values)\n",
    "df=pd.DataFrame(d_data,columns=d.columns_)\n",
    "df\n"
   ]
  },
  {
   "cell_type": "code",
   "execution_count": 290,
   "id": "73de82b0",
   "metadata": {},
   "outputs": [
    {
     "ename": "AttributeError",
     "evalue": "'DataFrame' object has no attribute 'flatten'",
     "output_type": "error",
     "traceback": [
      "\u001b[1;31m---------------------------------------------------------------------------\u001b[0m",
      "\u001b[1;31mAttributeError\u001b[0m                            Traceback (most recent call last)",
      "\u001b[1;32mD:\\Temp\\ipykernel_17484\\67630435.py\u001b[0m in \u001b[0;36m<module>\u001b[1;34m\u001b[0m\n\u001b[0;32m      3\u001b[0m \u001b[1;32mfor\u001b[0m \u001b[0mi\u001b[0m \u001b[1;32min\u001b[0m  \u001b[0mrange\u001b[0m\u001b[1;33m(\u001b[0m\u001b[0mlen\u001b[0m\u001b[1;33m(\u001b[0m\u001b[0mass_rules\u001b[0m\u001b[1;33m)\u001b[0m\u001b[1;33m)\u001b[0m\u001b[1;33m:\u001b[0m\u001b[1;33m\u001b[0m\u001b[1;33m\u001b[0m\u001b[0m\n\u001b[0;32m      4\u001b[0m     \u001b[1;32mif\u001b[0m \u001b[0mlen\u001b[0m\u001b[1;33m(\u001b[0m\u001b[0mass_rules\u001b[0m\u001b[1;33m.\u001b[0m\u001b[0mitemsets\u001b[0m\u001b[1;33m.\u001b[0m\u001b[0mvalues\u001b[0m\u001b[1;33m[\u001b[0m\u001b[0mi\u001b[0m\u001b[1;33m]\u001b[0m\u001b[1;33m)\u001b[0m\u001b[1;33m>=\u001b[0m\u001b[1;36m3\u001b[0m\u001b[1;33m:\u001b[0m\u001b[1;33m\u001b[0m\u001b[1;33m\u001b[0m\u001b[0m\n\u001b[1;32m----> 5\u001b[1;33m         \u001b[0mprint\u001b[0m\u001b[1;33m(\u001b[0m\u001b[0mass_rules\u001b[0m\u001b[1;33m.\u001b[0m\u001b[0mloc\u001b[0m\u001b[1;33m[\u001b[0m\u001b[0mi\u001b[0m\u001b[1;33m:\u001b[0m\u001b[0mi\u001b[0m\u001b[1;33m,\u001b[0m\u001b[1;33m:\u001b[0m\u001b[1;33m]\u001b[0m\u001b[1;33m.\u001b[0m\u001b[0mflatten\u001b[0m\u001b[1;33m(\u001b[0m\u001b[1;33m)\u001b[0m\u001b[1;33m)\u001b[0m\u001b[1;33m\u001b[0m\u001b[1;33m\u001b[0m\u001b[0m\n\u001b[0m",
      "\u001b[1;32mC:\\ProgramData\\Anaconda3\\lib\\site-packages\\pandas\\core\\generic.py\u001b[0m in \u001b[0;36m__getattr__\u001b[1;34m(self, name)\u001b[0m\n\u001b[0;32m   5573\u001b[0m         ):\n\u001b[0;32m   5574\u001b[0m             \u001b[1;32mreturn\u001b[0m \u001b[0mself\u001b[0m\u001b[1;33m[\u001b[0m\u001b[0mname\u001b[0m\u001b[1;33m]\u001b[0m\u001b[1;33m\u001b[0m\u001b[1;33m\u001b[0m\u001b[0m\n\u001b[1;32m-> 5575\u001b[1;33m         \u001b[1;32mreturn\u001b[0m \u001b[0mobject\u001b[0m\u001b[1;33m.\u001b[0m\u001b[0m__getattribute__\u001b[0m\u001b[1;33m(\u001b[0m\u001b[0mself\u001b[0m\u001b[1;33m,\u001b[0m \u001b[0mname\u001b[0m\u001b[1;33m)\u001b[0m\u001b[1;33m\u001b[0m\u001b[1;33m\u001b[0m\u001b[0m\n\u001b[0m\u001b[0;32m   5576\u001b[0m \u001b[1;33m\u001b[0m\u001b[0m\n\u001b[0;32m   5577\u001b[0m     \u001b[1;32mdef\u001b[0m \u001b[0m__setattr__\u001b[0m\u001b[1;33m(\u001b[0m\u001b[0mself\u001b[0m\u001b[1;33m,\u001b[0m \u001b[0mname\u001b[0m\u001b[1;33m:\u001b[0m \u001b[0mstr\u001b[0m\u001b[1;33m,\u001b[0m \u001b[0mvalue\u001b[0m\u001b[1;33m)\u001b[0m \u001b[1;33m->\u001b[0m \u001b[1;32mNone\u001b[0m\u001b[1;33m:\u001b[0m\u001b[1;33m\u001b[0m\u001b[1;33m\u001b[0m\u001b[0m\n",
      "\u001b[1;31mAttributeError\u001b[0m: 'DataFrame' object has no attribute 'flatten'"
     ]
    }
   ],
   "source": [
    "ass_rules = apriori(df,min_support=0.001,use_colnames=True)\n",
    "pd.DataFrame(ass_rules)\n",
    "\n",
    "for i in  range(len(ass_rules)):\n",
    "    if len(ass_rules.itemsets.values[i])>=3:\n",
    "        append('Ture')\n",
    "    else:\n",
    "        append(FloatingPointErrorsss)"
   ]
  },
  {
   "cell_type": "code",
   "execution_count": 263,
   "id": "b7549b27",
   "metadata": {},
   "outputs": [],
   "source": [
    "liss=[]\n",
    "col=[]\n",
    "for j in range(len(df1)):\n",
    "    lis=[]\n",
    "    for name in ['first1_x','first2_x','first3_x','first4_x','first5_x']:\n",
    "        for i in range(1,36,1):\n",
    "            if j==1:\n",
    "                col.append(i)\n",
    "            if df1.loc[j:j,name].values.astype(int)==i:\n",
    "                lis.append(1)\n",
    "            else:\n",
    "                lis.append(0)\n",
    "    liss.append(lis)"
   ]
  },
  {
   "cell_type": "code",
   "execution_count": 262,
   "id": "3e85d6e7",
   "metadata": {},
   "outputs": [
    {
     "name": "stderr",
     "output_type": "stream",
     "text": [
      "C:\\ProgramData\\Anaconda3\\lib\\site-packages\\mlxtend\\frequent_patterns\\fpcommon.py:110: DeprecationWarning:\n",
      "\n",
      "DataFrames with non-bool types result in worse computationalperformance and their support might be discontinued in the future.Please use a DataFrame with bool type\n",
      "\n"
     ]
    },
    {
     "data": {
      "text/html": [
       "<div>\n",
       "<style scoped>\n",
       "    .dataframe tbody tr th:only-of-type {\n",
       "        vertical-align: middle;\n",
       "    }\n",
       "\n",
       "    .dataframe tbody tr th {\n",
       "        vertical-align: top;\n",
       "    }\n",
       "\n",
       "    .dataframe thead th {\n",
       "        text-align: right;\n",
       "    }\n",
       "</style>\n",
       "<table border=\"1\" class=\"dataframe\">\n",
       "  <thead>\n",
       "    <tr style=\"text-align: right;\">\n",
       "      <th></th>\n",
       "      <th>support</th>\n",
       "      <th>itemsets</th>\n",
       "    </tr>\n",
       "  </thead>\n",
       "  <tbody>\n",
       "    <tr>\n",
       "      <th>0</th>\n",
       "      <td>0.148707</td>\n",
       "      <td>(1)</td>\n",
       "    </tr>\n",
       "    <tr>\n",
       "      <th>1</th>\n",
       "      <td>0.122845</td>\n",
       "      <td>(2)</td>\n",
       "    </tr>\n",
       "    <tr>\n",
       "      <th>2</th>\n",
       "      <td>0.114224</td>\n",
       "      <td>(3)</td>\n",
       "    </tr>\n",
       "    <tr>\n",
       "      <th>3</th>\n",
       "      <td>0.086638</td>\n",
       "      <td>(4)</td>\n",
       "    </tr>\n",
       "    <tr>\n",
       "      <th>4</th>\n",
       "      <td>0.087069</td>\n",
       "      <td>(5)</td>\n",
       "    </tr>\n",
       "    <tr>\n",
       "      <th>...</th>\n",
       "      <td>...</td>\n",
       "      <td>...</td>\n",
       "    </tr>\n",
       "    <tr>\n",
       "      <th>172</th>\n",
       "      <td>0.020259</td>\n",
       "      <td>(32, 34)</td>\n",
       "    </tr>\n",
       "    <tr>\n",
       "      <th>173</th>\n",
       "      <td>0.017241</td>\n",
       "      <td>(32, 35)</td>\n",
       "    </tr>\n",
       "    <tr>\n",
       "      <th>174</th>\n",
       "      <td>0.017672</td>\n",
       "      <td>(33, 34)</td>\n",
       "    </tr>\n",
       "    <tr>\n",
       "      <th>175</th>\n",
       "      <td>0.021552</td>\n",
       "      <td>(33, 35)</td>\n",
       "    </tr>\n",
       "    <tr>\n",
       "      <th>176</th>\n",
       "      <td>0.027155</td>\n",
       "      <td>(34, 35)</td>\n",
       "    </tr>\n",
       "  </tbody>\n",
       "</table>\n",
       "<p>177 rows × 2 columns</p>\n",
       "</div>"
      ],
      "text/plain": [
       "      support  itemsets\n",
       "0    0.148707       (1)\n",
       "1    0.122845       (2)\n",
       "2    0.114224       (3)\n",
       "3    0.086638       (4)\n",
       "4    0.087069       (5)\n",
       "..        ...       ...\n",
       "172  0.020259  (32, 34)\n",
       "173  0.017241  (32, 35)\n",
       "174  0.017672  (33, 34)\n",
       "175  0.021552  (33, 35)\n",
       "176  0.027155  (34, 35)\n",
       "\n",
       "[177 rows x 2 columns]"
      ]
     },
     "execution_count": 262,
     "metadata": {},
     "output_type": "execute_result"
    }
   ],
   "source": [
    "# from apyori import apriori #关联分析\n",
    "from mlxtend.frequent_patterns import apriori\n",
    "import numpy as np\n",
    "\n",
    "ass_rules = apriori(pd.DataFrame(liss,columns=col),min_support=0.01,use_colnames=True)\n",
    "pd.DataFrame(ass_rules)"
   ]
  },
  {
   "cell_type": "code",
   "execution_count": 155,
   "id": "82b23867",
   "metadata": {},
   "outputs": [
    {
     "data": {
      "image/png": "[encoded data removed]",
      "text/plain": [
       "<Figure size 640x480 with 1 Axes>"
      ]
     },
     "metadata": {},
     "output_type": "display_data"
    }
   ],
   "source": [
    "import itertools\n",
    "import networkx as nx\n",
    "import matplotlib.pyplot as plt\n",
    "\n",
    "circles = [line.split() for line in df1[['first1_x','first2_x']]]\n",
    "\n",
    "network = []\n",
    "for circ in circles:\n",
    "    cleaned = [int(val) for val in df1[circ].values]\n",
    "    \n",
    "    network.append(cleaned)\n",
    "\n",
    "G = nx.Graph()\n",
    "for v in network:\n",
    "    G.add_nodes_from(v)\n",
    "\n",
    "edges = [itertools.combinations(net,2) for net in network]\n",
    "\n",
    "for edge_group in edges:\n",
    "    G.add_edges_from(edge_group)\n",
    "\n",
    "options = {\n",
    "    'node_color' : range(len(G)),\n",
    "    'node_size' : 1,\n",
    "    'width' : 1,\n",
    "    'with_labels' : False,\n",
    "    'cmap' : plt.cm.coolwarm\n",
    "}\n",
    "\n",
    "nx.draw(G, **options)"
   ]
  },
  {
   "cell_type": "code",
   "execution_count": 115,
   "id": "a1389ef8",
   "metadata": {},
   "outputs": [],
   "source": [
    "for i in range(8,1,-1):\n",
    "    X = df1.iloc[:, :-i] \n",
    "    Y = df1.iloc[:, -i]"
   ]
  },
  {
   "cell_type": "code",
   "execution_count": 116,
   "id": "b5274357",
   "metadata": {},
   "outputs": [],
   "source": [
    "X=df[['lotteryDrawNum', 'first1_x', 'first2_x', 'first3_x', 'first4_x', 'first5_x', 'last1_x', 'last2_x','first1_num', 'first2_num', 'first3_num', 'first4_num', 'first5_num', 'last1_num', 'last2_num']]\n",
    "Y=df[['first1_y', 'first2_y', 'first3_y', 'first4_y', 'first5_y', 'last1_y', 'last2_y']]"
   ]
  },
  {
   "cell_type": "code",
   "execution_count": 117,
   "id": "1031843a",
   "metadata": {},
   "outputs": [],
   "source": [
    "lis=[]\n",
    "for i in range(1,36):\n",
    "    lis.append(i)\n",
    "lis=pd.DataFrame(lis)"
   ]
  },
  {
   "cell_type": "code",
   "execution_count": 118,
   "id": "9a66bdb5",
   "metadata": {},
   "outputs": [
    {
     "data": {
      "text/html": [
       "<div>\n",
       "<style scoped>\n",
       "    .dataframe tbody tr th:only-of-type {\n",
       "        vertical-align: middle;\n",
       "    }\n",
       "\n",
       "    .dataframe tbody tr th {\n",
       "        vertical-align: top;\n",
       "    }\n",
       "\n",
       "    .dataframe thead th {\n",
       "        text-align: right;\n",
       "    }\n",
       "</style>\n",
       "<table border=\"1\" class=\"dataframe\">\n",
       "  <thead>\n",
       "    <tr style=\"text-align: right;\">\n",
       "      <th></th>\n",
       "      <th>Region</th>\n",
       "      <th>Product</th>\n",
       "      <th>Sales</th>\n",
       "    </tr>\n",
       "  </thead>\n",
       "  <tbody>\n",
       "    <tr>\n",
       "      <th>0</th>\n",
       "      <td>North</td>\n",
       "      <td>Prod_A</td>\n",
       "      <td>100</td>\n",
       "    </tr>\n",
       "    <tr>\n",
       "      <th>1</th>\n",
       "      <td>North</td>\n",
       "      <td>Prod_B</td>\n",
       "      <td>200</td>\n",
       "    </tr>\n",
       "    <tr>\n",
       "      <th>2</th>\n",
       "      <td>South</td>\n",
       "      <td>Prod_C</td>\n",
       "      <td>150</td>\n",
       "    </tr>\n",
       "    <tr>\n",
       "      <th>3</th>\n",
       "      <td>South</td>\n",
       "      <td>Prod_A</td>\n",
       "      <td>300</td>\n",
       "    </tr>\n",
       "    <tr>\n",
       "      <th>4</th>\n",
       "      <td>East</td>\n",
       "      <td>Prod_B</td>\n",
       "      <td>250</td>\n",
       "    </tr>\n",
       "    <tr>\n",
       "      <th>5</th>\n",
       "      <td>West</td>\n",
       "      <td>Prod_C</td>\n",
       "      <td>200</td>\n",
       "    </tr>\n",
       "    <tr>\n",
       "      <th>6</th>\n",
       "      <td>North</td>\n",
       "      <td>Prod_B</td>\n",
       "      <td>180</td>\n",
       "    </tr>\n",
       "    <tr>\n",
       "      <th>7</th>\n",
       "      <td>South</td>\n",
       "      <td>Prod_C</td>\n",
       "      <td>220</td>\n",
       "    </tr>\n",
       "  </tbody>\n",
       "</table>\n",
       "</div>"
      ],
      "text/plain": [
       "  Region Product  Sales\n",
       "0  North  Prod_A    100\n",
       "1  North  Prod_B    200\n",
       "2  South  Prod_C    150\n",
       "3  South  Prod_A    300\n",
       "4   East  Prod_B    250\n",
       "5   West  Prod_C    200\n",
       "6  North  Prod_B    180\n",
       "7  South  Prod_C    220"
      ]
     },
     "execution_count": 118,
     "metadata": {},
     "output_type": "execute_result"
    }
   ],
   "source": [
    "sales_data = {\n",
    "    'Region': ['North', 'North', 'South', 'South', 'East', 'West', 'North', 'South'],\n",
    "    'Product': ['Prod_A', 'Prod_B', 'Prod_C', 'Prod_A', 'Prod_B', 'Prod_C', 'Prod_B', 'Prod_C'],\n",
    "    'Sales': [100, 200, 150, 300, 250, 200, 180, 220]\n",
    "}\n",
    "pd.DataFrame(sales_data)\n"
   ]
  },
  {
   "cell_type": "code",
   "execution_count": 119,
   "id": "356a8c68",
   "metadata": {},
   "outputs": [
    {
     "data": {
      "text/html": [
       "<div>\n",
       "<style scoped>\n",
       "    .dataframe tbody tr th:only-of-type {\n",
       "        vertical-align: middle;\n",
       "    }\n",
       "\n",
       "    .dataframe tbody tr th {\n",
       "        vertical-align: top;\n",
       "    }\n",
       "\n",
       "    .dataframe thead th {\n",
       "        text-align: right;\n",
       "    }\n",
       "</style>\n",
       "<table border=\"1\" class=\"dataframe\">\n",
       "  <thead>\n",
       "    <tr style=\"text-align: right;\">\n",
       "      <th></th>\n",
       "      <th>False</th>\n",
       "      <th>lotteryDrawNum</th>\n",
       "      <th>lotteryDrawResult</th>\n",
       "      <th>lotteryDrawTime</th>\n",
       "      <th>lotteryUnsortDrawresult</th>\n",
       "      <th>poolBalanceAfterdraw</th>\n",
       "      <th>drawFlowFund</th>\n",
       "      <th>totalSaleAmount</th>\n",
       "      <th>lotteryEquipmentCount</th>\n",
       "      <th>prizeLevelList</th>\n",
       "      <th>...</th>\n",
       "      <th>last1_y</th>\n",
       "      <th>last2_x</th>\n",
       "      <th>last2_y</th>\n",
       "      <th>first1_num</th>\n",
       "      <th>first2_num</th>\n",
       "      <th>first3_num</th>\n",
       "      <th>first4_num</th>\n",
       "      <th>first5_num</th>\n",
       "      <th>last1_num</th>\n",
       "      <th>last2_num</th>\n",
       "    </tr>\n",
       "  </thead>\n",
       "  <tbody>\n",
       "    <tr>\n",
       "      <th>0</th>\n",
       "      <td>0</td>\n",
       "      <td>23048</td>\n",
       "      <td>07 13 16 25 32 09 11</td>\n",
       "      <td>2023-05-01</td>\n",
       "      <td>07 32 16 25 13 11 09</td>\n",
       "      <td>994,472,934.30</td>\n",
       "      <td>41844850.79</td>\n",
       "      <td>313,990,124</td>\n",
       "      <td>1</td>\n",
       "      <td>[{'awardType': 0, 'group': '101', 'lotteryCond...</td>\n",
       "      <td>...</td>\n",
       "      <td>07</td>\n",
       "      <td>11</td>\n",
       "      <td>12</td>\n",
       "      <td>3.0</td>\n",
       "      <td>12.0</td>\n",
       "      <td>11.0</td>\n",
       "      <td>13.0</td>\n",
       "      <td>2.0</td>\n",
       "      <td>19.0</td>\n",
       "      <td>13.0</td>\n",
       "    </tr>\n",
       "    <tr>\n",
       "      <th>1</th>\n",
       "      <td>1</td>\n",
       "      <td>23047</td>\n",
       "      <td>10 12 13 24 25 11 12</td>\n",
       "      <td>2023-04-29</td>\n",
       "      <td>24 12 25 13 10 11 12</td>\n",
       "      <td>952,628,083.51</td>\n",
       "      <td>4427341.42</td>\n",
       "      <td>362,544,707</td>\n",
       "      <td>2</td>\n",
       "      <td>[{'awardType': 0, 'group': '101', 'lotteryCond...</td>\n",
       "      <td>...</td>\n",
       "      <td>09</td>\n",
       "      <td>12</td>\n",
       "      <td>11</td>\n",
       "      <td>902.0</td>\n",
       "      <td>900.0</td>\n",
       "      <td>2.0</td>\n",
       "      <td>906.0</td>\n",
       "      <td>14.0</td>\n",
       "      <td>22.0</td>\n",
       "      <td>7.0</td>\n",
       "    </tr>\n",
       "    <tr>\n",
       "      <th>2</th>\n",
       "      <td>2</td>\n",
       "      <td>23046</td>\n",
       "      <td>13 21 25 28 32 02 10</td>\n",
       "      <td>2023-04-26</td>\n",
       "      <td>13 21 32 28 25 02 10</td>\n",
       "      <td>948,200,742.09</td>\n",
       "      <td>92558425.03</td>\n",
       "      <td>352,135,852</td>\n",
       "      <td>2</td>\n",
       "      <td>[{'awardType': 0, 'group': '101', 'lotteryCond...</td>\n",
       "      <td>...</td>\n",
       "      <td>11</td>\n",
       "      <td>10</td>\n",
       "      <td>12</td>\n",
       "      <td>933.0</td>\n",
       "      <td>23.0</td>\n",
       "      <td>906.0</td>\n",
       "      <td>1.0</td>\n",
       "      <td>8.0</td>\n",
       "      <td>10.0</td>\n",
       "      <td>2.0</td>\n",
       "    </tr>\n",
       "    <tr>\n",
       "      <th>3</th>\n",
       "      <td>3</td>\n",
       "      <td>23045</td>\n",
       "      <td>07 10 13 28 31 04 05</td>\n",
       "      <td>2023-04-24</td>\n",
       "      <td>07 28 10 31 13 05 04</td>\n",
       "      <td>855,642,317.06</td>\n",
       "      <td>0.00</td>\n",
       "      <td>346,712,734</td>\n",
       "      <td>1</td>\n",
       "      <td>[{'awardType': 0, 'group': '101', 'lotteryCond...</td>\n",
       "      <td>...</td>\n",
       "      <td>02</td>\n",
       "      <td>05</td>\n",
       "      <td>10</td>\n",
       "      <td>10.0</td>\n",
       "      <td>7.0</td>\n",
       "      <td>4.0</td>\n",
       "      <td>13.0</td>\n",
       "      <td>9.0</td>\n",
       "      <td>11.0</td>\n",
       "      <td>24.0</td>\n",
       "    </tr>\n",
       "    <tr>\n",
       "      <th>4</th>\n",
       "      <td>4</td>\n",
       "      <td>23044</td>\n",
       "      <td>02 06 07 08 15 07 10</td>\n",
       "      <td>2023-04-22</td>\n",
       "      <td>15 06 07 08 02 07 10</td>\n",
       "      <td>868,495,061.73</td>\n",
       "      <td>14998609.88</td>\n",
       "      <td>378,830,462</td>\n",
       "      <td>3</td>\n",
       "      <td>[{'awardType': 0, 'group': '101', 'lotteryCond...</td>\n",
       "      <td>...</td>\n",
       "      <td>04</td>\n",
       "      <td>10</td>\n",
       "      <td>05</td>\n",
       "      <td>1.0</td>\n",
       "      <td>11.0</td>\n",
       "      <td>950.0</td>\n",
       "      <td>2919.0</td>\n",
       "      <td>4001.0</td>\n",
       "      <td>7.0</td>\n",
       "      <td>8.0</td>\n",
       "    </tr>\n",
       "    <tr>\n",
       "      <th>...</th>\n",
       "      <td>...</td>\n",
       "      <td>...</td>\n",
       "      <td>...</td>\n",
       "      <td>...</td>\n",
       "      <td>...</td>\n",
       "      <td>...</td>\n",
       "      <td>...</td>\n",
       "      <td>...</td>\n",
       "      <td>...</td>\n",
       "      <td>...</td>\n",
       "      <td>...</td>\n",
       "      <td>...</td>\n",
       "      <td>...</td>\n",
       "      <td>...</td>\n",
       "      <td>...</td>\n",
       "      <td>...</td>\n",
       "      <td>...</td>\n",
       "      <td>...</td>\n",
       "      <td>...</td>\n",
       "      <td>...</td>\n",
       "      <td>...</td>\n",
       "    </tr>\n",
       "    <tr>\n",
       "      <th>2315</th>\n",
       "      <td>2315</td>\n",
       "      <td>7020</td>\n",
       "      <td>02 06 11 12 18 05 12</td>\n",
       "      <td>2007-07-14</td>\n",
       "      <td>None</td>\n",
       "      <td>0</td>\n",
       "      <td>NaN</td>\n",
       "      <td>None</td>\n",
       "      <td>0</td>\n",
       "      <td>[{'awardType': 0, 'group': '', 'lotteryConditi...</td>\n",
       "      <td>...</td>\n",
       "      <td>01</td>\n",
       "      <td>12</td>\n",
       "      <td>02</td>\n",
       "      <td>7020.0</td>\n",
       "      <td>1.0</td>\n",
       "      <td>7020.0</td>\n",
       "      <td>7020.0</td>\n",
       "      <td>7020.0</td>\n",
       "      <td>7020.0</td>\n",
       "      <td>3.0</td>\n",
       "    </tr>\n",
       "    <tr>\n",
       "      <th>2316</th>\n",
       "      <td>2316</td>\n",
       "      <td>7019</td>\n",
       "      <td>03 06 17 22 23 04 06</td>\n",
       "      <td>2007-07-11</td>\n",
       "      <td>None</td>\n",
       "      <td>0</td>\n",
       "      <td>NaN</td>\n",
       "      <td>None</td>\n",
       "      <td>0</td>\n",
       "      <td>[{'awardType': 0, 'group': '', 'lotteryConditi...</td>\n",
       "      <td>...</td>\n",
       "      <td>05</td>\n",
       "      <td>06</td>\n",
       "      <td>12</td>\n",
       "      <td>1.0</td>\n",
       "      <td>7019.0</td>\n",
       "      <td>7019.0</td>\n",
       "      <td>7019.0</td>\n",
       "      <td>7019.0</td>\n",
       "      <td>7019.0</td>\n",
       "      <td>7019.0</td>\n",
       "    </tr>\n",
       "    <tr>\n",
       "      <th>2317</th>\n",
       "      <td>2317</td>\n",
       "      <td>7018</td>\n",
       "      <td>03 04 16 23 28 06 09</td>\n",
       "      <td>2007-07-09</td>\n",
       "      <td>None</td>\n",
       "      <td>0</td>\n",
       "      <td>NaN</td>\n",
       "      <td>None</td>\n",
       "      <td>0</td>\n",
       "      <td>[{'awardType': 0, 'group': '', 'lotteryConditi...</td>\n",
       "      <td>...</td>\n",
       "      <td>04</td>\n",
       "      <td>09</td>\n",
       "      <td>06</td>\n",
       "      <td>7018.0</td>\n",
       "      <td>7018.0</td>\n",
       "      <td>7018.0</td>\n",
       "      <td>7018.0</td>\n",
       "      <td>7018.0</td>\n",
       "      <td>7018.0</td>\n",
       "      <td>7018.0</td>\n",
       "    </tr>\n",
       "    <tr>\n",
       "      <th>2318</th>\n",
       "      <td>2318</td>\n",
       "      <td>7017</td>\n",
       "      <td>13 14 29 32 34 03 12</td>\n",
       "      <td>2007-07-07</td>\n",
       "      <td>None</td>\n",
       "      <td>0</td>\n",
       "      <td>NaN</td>\n",
       "      <td>None</td>\n",
       "      <td>0</td>\n",
       "      <td>[{'awardType': 0, 'group': '', 'lotteryConditi...</td>\n",
       "      <td>...</td>\n",
       "      <td>06</td>\n",
       "      <td>12</td>\n",
       "      <td>09</td>\n",
       "      <td>7017.0</td>\n",
       "      <td>1.0</td>\n",
       "      <td>7017.0</td>\n",
       "      <td>7017.0</td>\n",
       "      <td>7017.0</td>\n",
       "      <td>1.0</td>\n",
       "      <td>1.0</td>\n",
       "    </tr>\n",
       "    <tr>\n",
       "      <th>2319</th>\n",
       "      <td>2319</td>\n",
       "      <td>7016</td>\n",
       "      <td>01 14 19 24 31 03 12</td>\n",
       "      <td>2007-07-04</td>\n",
       "      <td>None</td>\n",
       "      <td>0</td>\n",
       "      <td>NaN</td>\n",
       "      <td>None</td>\n",
       "      <td>0</td>\n",
       "      <td>[{'awardType': 0, 'group': '', 'lotteryConditi...</td>\n",
       "      <td>...</td>\n",
       "      <td>03</td>\n",
       "      <td>12</td>\n",
       "      <td>12</td>\n",
       "      <td>7016.0</td>\n",
       "      <td>7016.0</td>\n",
       "      <td>7016.0</td>\n",
       "      <td>7016.0</td>\n",
       "      <td>7016.0</td>\n",
       "      <td>7016.0</td>\n",
       "      <td>7016.0</td>\n",
       "    </tr>\n",
       "  </tbody>\n",
       "</table>\n",
       "<p>2320 rows × 33 columns</p>\n",
       "</div>"
      ],
      "text/plain": [
       "      False  lotteryDrawNum     lotteryDrawResult lotteryDrawTime  \\\n",
       "0         0           23048  07 13 16 25 32 09 11      2023-05-01   \n",
       "1         1           23047  10 12 13 24 25 11 12      2023-04-29   \n",
       "2         2           23046  13 21 25 28 32 02 10      2023-04-26   \n",
       "3         3           23045  07 10 13 28 31 04 05      2023-04-24   \n",
       "4         4           23044  02 06 07 08 15 07 10      2023-04-22   \n",
       "...     ...             ...                   ...             ...   \n",
       "2315   2315            7020  02 06 11 12 18 05 12      2007-07-14   \n",
       "2316   2316            7019  03 06 17 22 23 04 06      2007-07-11   \n",
       "2317   2317            7018  03 04 16 23 28 06 09      2007-07-09   \n",
       "2318   2318            7017  13 14 29 32 34 03 12      2007-07-07   \n",
       "2319   2319            7016  01 14 19 24 31 03 12      2007-07-04   \n",
       "\n",
       "     lotteryUnsortDrawresult poolBalanceAfterdraw  drawFlowFund  \\\n",
       "0       07 32 16 25 13 11 09       994,472,934.30   41844850.79   \n",
       "1       24 12 25 13 10 11 12       952,628,083.51    4427341.42   \n",
       "2       13 21 32 28 25 02 10       948,200,742.09   92558425.03   \n",
       "3       07 28 10 31 13 05 04       855,642,317.06          0.00   \n",
       "4       15 06 07 08 02 07 10       868,495,061.73   14998609.88   \n",
       "...                      ...                  ...           ...   \n",
       "2315                    None                    0           NaN   \n",
       "2316                    None                    0           NaN   \n",
       "2317                    None                    0           NaN   \n",
       "2318                    None                    0           NaN   \n",
       "2319                    None                    0           NaN   \n",
       "\n",
       "     totalSaleAmount  lotteryEquipmentCount  \\\n",
       "0        313,990,124                      1   \n",
       "1        362,544,707                      2   \n",
       "2        352,135,852                      2   \n",
       "3        346,712,734                      1   \n",
       "4        378,830,462                      3   \n",
       "...              ...                    ...   \n",
       "2315            None                      0   \n",
       "2316            None                      0   \n",
       "2317            None                      0   \n",
       "2318            None                      0   \n",
       "2319            None                      0   \n",
       "\n",
       "                                         prizeLevelList  ... last1_y last2_x  \\\n",
       "0     [{'awardType': 0, 'group': '101', 'lotteryCond...  ...      07      11   \n",
       "1     [{'awardType': 0, 'group': '101', 'lotteryCond...  ...      09      12   \n",
       "2     [{'awardType': 0, 'group': '101', 'lotteryCond...  ...      11      10   \n",
       "3     [{'awardType': 0, 'group': '101', 'lotteryCond...  ...      02      05   \n",
       "4     [{'awardType': 0, 'group': '101', 'lotteryCond...  ...      04      10   \n",
       "...                                                 ...  ...     ...     ...   \n",
       "2315  [{'awardType': 0, 'group': '', 'lotteryConditi...  ...      01      12   \n",
       "2316  [{'awardType': 0, 'group': '', 'lotteryConditi...  ...      05      06   \n",
       "2317  [{'awardType': 0, 'group': '', 'lotteryConditi...  ...      04      09   \n",
       "2318  [{'awardType': 0, 'group': '', 'lotteryConditi...  ...      06      12   \n",
       "2319  [{'awardType': 0, 'group': '', 'lotteryConditi...  ...      03      12   \n",
       "\n",
       "     last2_y first1_num first2_num first3_num first4_num first5_num last1_num  \\\n",
       "0         12        3.0       12.0       11.0       13.0        2.0      19.0   \n",
       "1         11      902.0      900.0        2.0      906.0       14.0      22.0   \n",
       "2         12      933.0       23.0      906.0        1.0        8.0      10.0   \n",
       "3         10       10.0        7.0        4.0       13.0        9.0      11.0   \n",
       "4         05        1.0       11.0      950.0     2919.0     4001.0       7.0   \n",
       "...      ...        ...        ...        ...        ...        ...       ...   \n",
       "2315      02     7020.0        1.0     7020.0     7020.0     7020.0    7020.0   \n",
       "2316      12        1.0     7019.0     7019.0     7019.0     7019.0    7019.0   \n",
       "2317      06     7018.0     7018.0     7018.0     7018.0     7018.0    7018.0   \n",
       "2318      09     7017.0        1.0     7017.0     7017.0     7017.0       1.0   \n",
       "2319      12     7016.0     7016.0     7016.0     7016.0     7016.0    7016.0   \n",
       "\n",
       "     last2_num  \n",
       "0         13.0  \n",
       "1          7.0  \n",
       "2          2.0  \n",
       "3         24.0  \n",
       "4          8.0  \n",
       "...        ...  \n",
       "2315       3.0  \n",
       "2316    7019.0  \n",
       "2317    7018.0  \n",
       "2318       1.0  \n",
       "2319    7016.0  \n",
       "\n",
       "[2320 rows x 33 columns]"
      ]
     },
     "execution_count": 119,
     "metadata": {},
     "output_type": "execute_result"
    }
   ],
   "source": [
    "df"
   ]
  },
  {
   "cell_type": "code",
   "execution_count": 121,
   "id": "b30c7018",
   "metadata": {},
   "outputs": [],
   "source": [
    "X_train, X_test, Y_train, Y_test = train_test_split(X, Y.first1_y, test_size=0.3, random_state=10)"
   ]
  },
  {
   "cell_type": "markdown",
   "id": "e4fc0ff8",
   "metadata": {},
   "source": [
    "# 随机森林"
   ]
  },
  {
   "cell_type": "code",
   "execution_count": 122,
   "id": "305751de",
   "metadata": {},
   "outputs": [
    {
     "name": "stdout",
     "output_type": "stream",
     "text": [
      "0.14655172413793102\n"
     ]
    }
   ],
   "source": [
    "from sklearn.ensemble import RandomForestClassifier\n",
    "from sklearn.metrics import mean_squared_error\n",
    "from sklearn.metrics import r2_score\n",
    "\n",
    "forest = RandomForestClassifier(max_depth=1\n",
    "                                ,min_samples_split=2\n",
    "                                ,min_samples_leaf=1\n",
    "                                ,max_features=2\n",
    "                               )\n",
    "forest=forest.fit(X_train, Y_train)\n",
    "Y_train_pred = forest.predict(X_train)\n",
    "Y_test_pred = forest.predict(X_test)\n",
    "score=forest.score(X_test,Y_test)\n",
    "print(score)"
   ]
  },
  {
   "cell_type": "markdown",
   "id": "ed122f4e",
   "metadata": {},
   "source": [
    "# 多层感知机MLP"
   ]
  },
  {
   "cell_type": "code",
   "execution_count": 123,
   "id": "30f24085",
   "metadata": {},
   "outputs": [
    {
     "name": "stdout",
     "output_type": "stream",
     "text": [
      "0.15825123152709358 0.14224137931034483\n"
     ]
    },
    {
     "name": "stderr",
     "output_type": "stream",
     "text": [
      "C:\\ProgramData\\Anaconda3\\lib\\site-packages\\sklearn\\neural_network\\_multilayer_perceptron.py:549: ConvergenceWarning:\n",
      "\n",
      "lbfgs failed to converge (status=1):\n",
      "STOP: TOTAL NO. of ITERATIONS REACHED LIMIT.\n",
      "\n",
      "Increase the number of iterations (max_iter) or scale the data as shown in:\n",
      "    https://scikit-learn.org/stable/modules/preprocessing.html\n",
      "\n"
     ]
    }
   ],
   "source": [
    "from sklearn.neural_network import MLPClassifier\n",
    "\n",
    "clf = MLPClassifier(activation='logistic',solver='lbfgs', alpha=1e-5,hidden_layer_sizes=(10,11), random_state=2)\n",
    "clf.fit(X_train, Y_train)\n",
    "clf.predict(X_train)\n",
    "score1=clf.score(X_train,Y_train)\n",
    "score2=clf.score(X_test,Y_test)\n",
    "print(score1,score2)"
   ]
  },
  {
   "cell_type": "markdown",
   "id": "3548f236",
   "metadata": {},
   "source": [
    "# 支持向量机SVM"
   ]
  },
  {
   "cell_type": "code",
   "execution_count": 124,
   "id": "3e4f1ba5",
   "metadata": {},
   "outputs": [
    {
     "name": "stdout",
     "output_type": "stream",
     "text": [
      "first1_y 1.0 0.14655172413793102\n"
     ]
    }
   ],
   "source": [
    "from sklearn import svm\n",
    "clf = svm.SVC(kernel='rbf',gamma='auto',coef0=0.0)\n",
    "clf.fit(X_train, Y_train)\n",
    "\n",
    "score1=clf.score(X_train,Y_train)\n",
    "score2=clf.score(X_test,Y_test)\n",
    "print(i,score1,score2)"
   ]
  },
  {
   "cell_type": "code",
   "execution_count": null,
   "id": "b591de16",
   "metadata": {},
   "outputs": [],
   "source": []
  }
 ],
 "metadata": {
  "kernelspec": {
   "display_name": "Python 3 (ipykernel)",
   "language": "python",
   "name": "python3"
  },
  "language_info": {
   "codemirror_mode": {
    "name": "ipython",
    "version": 3
   },
   "file_extension": ".py",
   "mimetype": "text/x-python",
   "name": "python",
   "nbconvert_exporter": "python",
   "pygments_lexer": "ipython3",
   "version": "3.9.13"
  }
 },
 "nbformat": 4,
 "nbformat_minor": 5
}
