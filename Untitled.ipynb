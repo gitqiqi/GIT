{
 "cells": [
  {
   "cell_type": "code",
   "execution_count": 40,
   "id": "ff41c331",
   "metadata": {},
   "outputs": [],
   "source": [
    "import pandas as pd\n",
    "from sklearn.model_selection import train_test_split\n",
    "df = pd.read_csv('list.csv')\n",
    "# df1 = df[['lotteryDrawNum', 'first1_x', 'first2_x', 'first3_x', 'first4_x', 'first5_x', 'last1_x', 'last2_x','first1_num', 'first2_num', 'first3_num', 'first4_num', 'first5_num', 'last1_num', 'last2_num']]"
   ]
  },
  {
   "cell_type": "code",
   "execution_count": 41,
   "id": "8356bc54",
   "metadata": {},
   "outputs": [],
   "source": [
    "for i in range(8,1,-1):\n",
    "    X = df1.iloc[:, :-i] \n",
    "    Y = df1.iloc[:, -i]"
   ]
  },
  {
   "cell_type": "code",
   "execution_count": 42,
   "id": "32e0615d",
   "metadata": {},
   "outputs": [],
   "source": [
    "X=df[['lotteryDrawNum', 'first1_x', 'first2_x', 'first3_x', 'first4_x', 'first5_x', 'last1_x', 'last2_x','first1_num', 'first2_num', 'first3_num', 'first4_num', 'first5_num', 'last1_num', 'last2_num']]\n",
    "Y=df[['first1_y', 'first2_y', 'first3_y', 'first4_y', 'first5_y', 'last1_y', 'last2_y']]"
   ]
  },
  {
   "cell_type": "code",
   "execution_count": 68,
   "id": "9f045280",
   "metadata": {},
   "outputs": [],
   "source": [
    "X_train, X_test, Y_train, Y_test = train_test_split(X, Y.first1_y, test_size=0.3, random_state=10)"
   ]
  },
  {
   "cell_type": "code",
   "execution_count": 80,
   "id": "d9d495a3",
   "metadata": {},
   "outputs": [
    {
     "data": {
      "text/plain": [
       "0.15"
      ]
     },
     "execution_count": 80,
     "metadata": {},
     "output_type": "execute_result"
    }
   ],
   "source": [
    "from sklearn.ensemble import RandomForestClassifier\n",
    "from sklearn.metrics import mean_squared_error\n",
    "from sklearn.metrics import r2_score\n",
    "forest = RandomForestClassifier(max_depth=1\n",
    "                                ,min_samples_split=2\n",
    "                                ,min_samples_leaf=1\n",
    "                                ,max_features=1\n",
    "                                ,\n",
    "                               )\n",
    "forest=forest.fit(X_train, Y_train)\n",
    "Y_train_pred = forest.predict(X_train)\n",
    "Y_test_pred = forest.predict(X_test)\n",
    "forest.score(X_test,Y_test)"
   ]
  },
  {
   "cell_type": "code",
   "execution_count": null,
   "id": "c321d4dd",
   "metadata": {},
   "outputs": [],
   "source": []
  }
 ],
 "metadata": {
  "kernelspec": {
   "display_name": "Python 3 (ipykernel)",
   "language": "python",
   "name": "python3"
  },
  "language_info": {
   "codemirror_mode": {
    "name": "ipython",
    "version": 3
   },
   "file_extension": ".py",
   "mimetype": "text/x-python",
   "name": "python",
   "nbconvert_exporter": "python",
   "pygments_lexer": "ipython3",
   "version": "3.9.13"
  }
 },
 "nbformat": 4,
 "nbformat_minor": 5
}
